{
 "cells": [
  {
   "cell_type": "code",
   "execution_count": 1,
   "metadata": {},
   "outputs": [],
   "source": [
    "import os\n",
    "import sys\n",
    "sys.path.append(\"/home/pervinco/BKAI-IGH-NeoPolyp\")\n",
    "\n",
    "import cv2\n",
    "import yaml\n",
    "import numpy as np\n",
    "\n",
    "from tqdm import tqdm\n",
    "from glob import glob\n",
    "\n",
    "from data.data_preprocess import encode_mask"
   ]
  },
  {
   "cell_type": "code",
   "execution_count": 2,
   "metadata": {},
   "outputs": [],
   "source": [
    "with open(\"/home/pervinco/BKAI-IGH-NeoPolyp/config.yaml\", \"r\") as f:\n",
    "    config = yaml.safe_load(f)"
   ]
  },
  {
   "cell_type": "code",
   "execution_count": 3,
   "metadata": {},
   "outputs": [],
   "source": [
    "data_dir = config[\"data_dir\"]\n",
    "image_dir = f\"{data_dir}/train\"\n",
    "mask_dir = f\"{data_dir}/train_gt\"\n",
    "\n",
    "color_dir = f\"{data_dir}/color_txt\"\n",
    "color_files = sorted(glob(f\"{color_dir}/*.txt\"))"
   ]
  },
  {
   "cell_type": "code",
   "execution_count": 4,
   "metadata": {},
   "outputs": [
    {
     "name": "stdout",
     "output_type": "stream",
     "text": [
      "green 257\n",
      "red 694\n",
      "rng 49\n"
     ]
    }
   ],
   "source": [
    "total = {}\n",
    "for color_file in color_files:\n",
    "    name = color_file.split('/')[-1].split('.')[0]\n",
    "    with open(color_file, 'r') as f:\n",
    "        files = [x.strip() for x in f.readlines()]\n",
    "\n",
    "    total.update({name : files})\n",
    "\n",
    "for name, files in total.items():\n",
    "    print(name, len(files))"
   ]
  },
  {
   "cell_type": "code",
   "execution_count": 5,
   "metadata": {},
   "outputs": [],
   "source": [
    "class_dist = {}\n",
    "for name, files in total.items():\n",
    "    for file in files:\n",
    "        mask_file = f\"{mask_dir}/{file}.jpeg\"\n",
    "        mask = cv2.imread(mask_file)\n",
    "        encoded_mask = encode_mask(mask)\n",
    "\n",
    "        unique_labels, label_counts = np.unique(encoded_mask, return_counts=True)\n",
    "        for label, count in zip(unique_labels, label_counts):\n",
    "            if label not in class_dist:\n",
    "                class_dist[label] = 0\n",
    "            class_dist[label] += count"
   ]
  },
  {
   "cell_type": "code",
   "execution_count": 6,
   "metadata": {},
   "outputs": [
    {
     "name": "stdout",
     "output_type": "stream",
     "text": [
      "Class 0: 1190864392\n",
      "Class 1: 8581706\n",
      "Class 2: 58717102\n"
     ]
    }
   ],
   "source": [
    "for label, count in class_dist.items():\n",
    "    print(f\"Class {label}: {count}\")"
   ]
  },
  {
   "cell_type": "code",
   "execution_count": 7,
   "metadata": {},
   "outputs": [
    {
     "name": "stdout",
     "output_type": "stream",
     "text": [
      "[0.3521708568588499, 48.86997216326606, 7.142514174717501]\n"
     ]
    }
   ],
   "source": [
    "total_samples = sum(class_dist.values())\n",
    "class_weights = [total_samples / (class_dist[i] * len(class_dist)) for i in range(len(class_dist))]\n",
    "print(class_weights)"
   ]
  },
  {
   "cell_type": "code",
   "execution_count": 8,
   "metadata": {},
   "outputs": [
    {
     "name": "stdout",
     "output_type": "stream",
     "text": [
      "Normalized Class Weights: [0.006248079459464449, 0.867032189947176, 0.12671973059335967]\n"
     ]
    }
   ],
   "source": [
    "total_weight = sum(class_weights)\n",
    "normalized_weights = [weight / total_weight for weight in class_weights]\n",
    "\n",
    "print(\"Normalized Class Weights:\", normalized_weights)"
   ]
  }
 ],
 "metadata": {
  "kernelspec": {
   "display_name": "openmmlab",
   "language": "python",
   "name": "python3"
  },
  "language_info": {
   "codemirror_mode": {
    "name": "ipython",
    "version": 3
   },
   "file_extension": ".py",
   "mimetype": "text/x-python",
   "name": "python",
   "nbconvert_exporter": "python",
   "pygments_lexer": "ipython3",
   "version": "3.10.13"
  }
 },
 "nbformat": 4,
 "nbformat_minor": 2
}
