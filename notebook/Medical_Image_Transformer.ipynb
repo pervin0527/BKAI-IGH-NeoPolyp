{
  "cells": [
    {
      "cell_type": "code",
      "execution_count": 1,
      "metadata": {
        "id": "AQePAlbAXq67"
      },
      "outputs": [],
      "source": [
        "import os\n",
        "import sys\n",
        "sys.path.append(\"/home/pervinco/mmsegmentation\")\n",
        "\n",
        "import cv2\n",
        "import yaml\n",
        "import torch\n",
        "import random\n",
        "import numpy as np\n",
        "import pandas as pd\n",
        "import torch.nn as nn\n",
        "import albumentations as A\n",
        "import torch.nn.functional as F\n",
        "\n",
        "from glob import glob\n",
        "from tqdm import tqdm\n",
        "from datetime import datetime\n",
        "from albumentations.pytorch import ToTensorV2\n",
        "from torch.utils.data import Dataset, DataLoader\n",
        "\n",
        "from mmseg.models import build_segmentor\n",
        "from data_preprocess import load_img_mask, encode_mask, train_img_mask_transform, mosaic_augmentation, spatially_exclusive_pasting"
      ]
    },
    {
      "cell_type": "code",
      "execution_count": 2,
      "metadata": {},
      "outputs": [],
      "source": [
        "def save_config_to_yaml(config, save_dir):\n",
        "    with open(f\"{save_dir}/params.yaml\", 'w') as file:\n",
        "        yaml.dump(config, file)"
      ]
    },
    {
      "cell_type": "code",
      "execution_count": 3,
      "metadata": {
        "id": "9YpB8T-mXjl_"
      },
      "outputs": [],
      "source": [
        "class BKAIDataset(Dataset):\n",
        "    def __init__(self, config):\n",
        "        self.data_dir = config[\"data_dir\"]\n",
        "        self.img_size = config[\"img_size\"]\n",
        "        self.spatial_alpha = config[\"spatial_alpha\"]\n",
        "\n",
        "        self.image_dir = f\"{self.data_dir}/train\"\n",
        "        self.mask_dir = f\"{self.data_dir}/train_gt\"\n",
        "\n",
        "        self.image_files = sorted(glob(f\"{self.image_dir}/*.jpeg\"))\n",
        "        self.mask_files = sorted(glob(f\"{self.mask_dir}/*.jpeg\"))\n",
        "        \n",
        "        self.total_files = list(zip(self.image_files, self.mask_files))\n",
        "\n",
        "        self.train_transform = A.Compose([A.HorizontalFlip(p=0.5),\n",
        "                                          A.VerticalFlip(p=0.5),\n",
        "                                          A.RandomGamma (gamma_limit=(70, 130), eps=None, always_apply=False, p=0.2),\n",
        "                                          A.RGBShift(p=0.3, r_shift_limit=10, g_shift_limit=10, b_shift_limit=10),\n",
        "                                          A.OneOf([A.Blur(), A.GaussianBlur(), A.GlassBlur(), A.MotionBlur(), A.GaussNoise(), A.Sharpen(), A.MedianBlur(), A.MultiplicativeNoise()]),\n",
        "                                          A.Cutout(p=0.2, max_h_size=35, max_w_size=35, fill_value=255),\n",
        "                                          A.RandomSnow(snow_point_lower=0.1, snow_point_upper=0.15, brightness_coeff=1.5, p=0.09),\n",
        "                                          A.RandomShadow(p=0.1),\n",
        "                                          A.ShiftScaleRotate(p=0.45, border_mode=cv2.BORDER_CONSTANT, shift_limit=0.15, scale_limit=0.15),\n",
        "                                          A.RandomCrop(self.img_size, self.img_size)])\n",
        "        \n",
        "        self.batch_transform = A.Compose([A.Normalize(mean=(0.485, 0.456, 0.406),std=(0.229, 0.224, 0.225)),\n",
        "                                          ToTensorV2()])\n",
        "\n",
        "    def __len__(self):\n",
        "        return len(self.total_files)\n",
        "    \n",
        "\n",
        "    def __getitem__(self, index):\n",
        "        prob = random.random()\n",
        "\n",
        "        if prob <= 0.3:\n",
        "            image_path, mask_path = self.total_files[index]\n",
        "            image, mask = load_img_mask(image_path, mask_path, size=self.img_size)\n",
        "\n",
        "            augment_image, augment_mask = train_img_mask_transform(self.train_transform, image, mask)\n",
        "\n",
        "        elif 0.3 < prob <= 0.6:\n",
        "            piecies = []\n",
        "            while len(piecies) < 4:\n",
        "                i = random.randint(0, len(self.total_files)-1)\n",
        "                image_path, mask_path = self.total_files[i]\n",
        "                image, mask = load_img_mask(image_path, mask_path, size=self.img_size)\n",
        "                piece_image, piece_mask = train_img_mask_transform(self.train_transform, image, mask)\n",
        "                piecies.append([piece_image, piece_mask])\n",
        "\n",
        "            augment_image, augment_mask = mosaic_augmentation(piecies, size=self.img_size)\n",
        "\n",
        "\n",
        "        elif 0.6 < prob <= 1:\n",
        "            image_path, mask_path = self.total_files[index]\n",
        "            image, mask = load_img_mask(image_path, mask_path, size=self.img_size)\n",
        "            augment_image, augment_mask = spatially_exclusive_pasting(image, mask, alpha=random.uniform(self.spatial_alpha, self.spatial_alpha + 0.2))\n",
        "\n",
        "        encoded_mask = encode_mask(augment_mask)\n",
        "        batch_image, batch_mask = train_img_mask_transform(self.batch_transform, augment_image, encoded_mask)\n",
        "\n",
        "        return batch_image, batch_mask"
      ]
    },
    {
      "cell_type": "code",
      "execution_count": 4,
      "metadata": {
        "id": "LC_FKjFpYmkZ"
      },
      "outputs": [
        {
          "name": "stderr",
          "output_type": "stream",
          "text": [
            "/home/pervinco/anaconda3/envs/openmmlab/lib/python3.10/site-packages/albumentations/augmentations/dropout/cutout.py:49: FutureWarning: Cutout has been deprecated. Please use CoarseDropout\n",
            "  warnings.warn(\n"
          ]
        }
      ],
      "source": [
        "with open(\"config.yaml\", \"r\") as f:\n",
        "    config = yaml.safe_load(f)\n",
        "\n",
        "## Device Setup\n",
        "device = torch.device(\"cuda\" if torch.cuda.is_available() else \"cpu\")\n",
        "num_workers = min([os.cpu_count(), config[\"batch_size\"] if config[\"batch_size\"] > 1 else 0, 8])\n",
        "\n",
        "## Dataset\n",
        "train_dataset = BKAIDataset(config)\n",
        "train_dataloader = DataLoader(train_dataset, batch_size=config[\"batch_size\"], shuffle=True, num_workers=num_workers)"
      ]
    },
    {
      "cell_type": "code",
      "execution_count": 5,
      "metadata": {
        "id": "FW1qSpjgkZw5"
      },
      "outputs": [],
      "source": [
        "class AverageMeter(object):\n",
        "    def __init__(self):\n",
        "        self.reset()\n",
        "\n",
        "    def reset(self):\n",
        "        self.val = 0\n",
        "        self.avg = 0\n",
        "        self.sum = 0\n",
        "        self.count = 0\n",
        "\n",
        "    def update(self, val, n=1):\n",
        "        self.val = val\n",
        "        self.sum += val * n\n",
        "        self.count += n\n",
        "        self.avg = self.sum / self.count"
      ]
    },
    {
      "cell_type": "code",
      "execution_count": 6,
      "metadata": {
        "id": "3YtZ1CpEpIYg"
      },
      "outputs": [],
      "source": [
        "#metrics\n",
        "#tham khao: https://github.com/hszhao/semseg/blob/master/util/util.py\n",
        "def intersectionAndUnionGPU(output, target, K, ignore_index=255):\n",
        "    # 'K' classes, output and target sizes are N or N * L or N * H * W, each value in range 0 to K - 1.\n",
        "    assert (output.dim() in [1, 2, 3])\n",
        "    assert output.shape == target.shape\n",
        "    output = output.view(-1)\n",
        "    target = target.view(-1)\n",
        "    output[target == ignore_index] = ignore_index\n",
        "    intersection = output[output == target]\n",
        "    area_intersection = torch.histc(intersection, bins=K, min=0, max=K-1)\n",
        "    area_output = torch.histc(output, bins=K, min=0, max=K-1)\n",
        "    area_target = torch.histc(target, bins=K, min=0, max=K-1)\n",
        "    area_union = area_output + area_target - area_intersection\n",
        "    return area_intersection, area_union, area_target "
      ]
    },
    {
      "cell_type": "code",
      "execution_count": 7,
      "metadata": {
        "id": "fbRQ684zvNMV"
      },
      "outputs": [],
      "source": [
        "class FocalLoss_Ori(nn.Module):\n",
        "    def __init__(self, num_class, alpha=None, gamma=2, ignore_index=None, reduction='mean'):\n",
        "        super(FocalLoss_Ori, self).__init__()\n",
        "        self.num_class = num_class\n",
        "        self.gamma = gamma\n",
        "        self.reduction = reduction\n",
        "        self.smooth = 1e-4\n",
        "        self.ignore_index = ignore_index\n",
        "        self.alpha = alpha\n",
        "        if alpha is None:\n",
        "            self.alpha = torch.ones(num_class, )\n",
        "        elif isinstance(alpha, (int, float)):\n",
        "            self.alpha = torch.as_tensor([alpha] * num_class)\n",
        "        elif isinstance(alpha, (list, np.ndarray)):\n",
        "            self.alpha = torch.as_tensor(alpha)\n",
        "        if self.alpha.shape[0] != num_class:\n",
        "            raise RuntimeError('the length not equal to number of class')\n",
        "\n",
        "    def forward(self, logit, target):\n",
        "        N, C = logit.shape[:2]\n",
        "        alpha = self.alpha.to(logit.device)\n",
        "        prob = F.softmax(logit, dim=1)\n",
        "        if prob.dim() > 2:\n",
        "            prob = prob.view(N, C, -1)\n",
        "            prob = prob.transpose(1, 2).contiguous()  # [N,C,d1*d2..] -> [N,d1*d2..,C]\n",
        "            prob = prob.view(-1, prob.size(-1))  # [N,d1*d2..,C]-> [N*d1*d2..,C]\n",
        "        ori_shp = target.shape\n",
        "        target = target.view(-1, 1)  # [N,d1,d2,...]->[N*d1*d2*...,1]\n",
        "        \n",
        "        valid_mask = None\n",
        "        if self.ignore_index is not None:\n",
        "            valid_mask = target != self.ignore_index\n",
        "            target = target * valid_mask\n",
        "\n",
        "        # ----------memory saving way--------\n",
        "        prob = prob.gather(1, target).view(-1) + self.smooth  # avoid nan\n",
        "        logpt = torch.log(prob)\n",
        "        # alpha_class = alpha.gather(0, target.view(-1))\n",
        "        alpha_class = alpha[target.squeeze().long()]\n",
        "        class_weight = -alpha_class * torch.pow(torch.sub(1.0, prob), self.gamma)\n",
        "        loss = class_weight * logpt\n",
        "        if valid_mask is not None:\n",
        "            loss = loss * valid_mask.squeeze()\n",
        "\n",
        "        if self.reduction == 'mean':\n",
        "            loss = loss.mean()\n",
        "            if valid_mask is not None:\n",
        "                loss = loss.sum() / valid_mask.sum()\n",
        "        elif self.reduction == 'none':\n",
        "            loss = loss.view(ori_shp)\n",
        "        return loss"
      ]
    },
    {
      "cell_type": "code",
      "execution_count": 8,
      "metadata": {
        "id": "KyBQfeS9pXni"
      },
      "outputs": [
        {
          "name": "stderr",
          "output_type": "stream",
          "text": [
            "/home/pervinco/mmsegmentation/mmseg/models/builder.py:36: UserWarning: ``build_loss`` would be deprecated soon, please use ``mmseg.registry.MODELS.build()`` \n",
            "  warnings.warn('``build_loss`` would be deprecated soon, please use '\n",
            "/home/pervinco/mmsegmentation/mmseg/models/losses/cross_entropy_loss.py:235: UserWarning: Default ``avg_non_ignore`` is False, if you would like to ignore the certain label and average loss over non-ignore labels, which is the same with PyTorch official cross_entropy, set ``avg_non_ignore=True``.\n",
            "  warnings.warn(\n"
          ]
        },
        {
          "name": "stdout",
          "output_type": "stream",
          "text": [
            "Loads checkpoint by http backend from path: https://download.openmmlab.com/mmsegmentation/v0.5/pretrain/swin/swin_large_patch4_window12_384_22k_20220412-6580f57d.pth\n",
            "10/10 15:52:48 - mmengine - \u001b[4m\u001b[97mINFO\u001b[0m - \n",
            "backbone.patch_embed.projection.weight - torch.Size([192, 3, 4, 4]): \n",
            "Initialized by user-defined `init_weights` in SwinTransformer  \n",
            " \n",
            "10/10 15:52:48 - mmengine - \u001b[4m\u001b[97mINFO\u001b[0m - \n",
            "backbone.patch_embed.projection.bias - torch.Size([192]): \n",
            "Initialized by user-defined `init_weights` in SwinTransformer  \n",
            " \n",
            "10/10 15:52:48 - mmengine - \u001b[4m\u001b[97mINFO\u001b[0m - \n",
            "backbone.patch_embed.norm.weight - torch.Size([192]): \n",
            "Initialized by user-defined `init_weights` in SwinTransformer  \n",
            " \n",
            "10/10 15:52:48 - mmengine - \u001b[4m\u001b[97mINFO\u001b[0m - \n",
            "backbone.patch_embed.norm.bias - torch.Size([192]): \n",
            "Initialized by user-defined `init_weights` in SwinTransformer  \n",
            " \n",
            "10/10 15:52:48 - mmengine - \u001b[4m\u001b[97mINFO\u001b[0m - \n",
            "backbone.stages.0.blocks.0.norm1.weight - torch.Size([192]): \n",
            "Initialized by user-defined `init_weights` in SwinTransformer  \n",
            " \n",
            "10/10 15:52:48 - mmengine - \u001b[4m\u001b[97mINFO\u001b[0m - \n",
            "backbone.stages.0.blocks.0.norm1.bias - torch.Size([192]): \n",
            "Initialized by user-defined `init_weights` in SwinTransformer  \n",
            " \n",
            "10/10 15:52:48 - mmengine - \u001b[4m\u001b[97mINFO\u001b[0m - \n",
            "backbone.stages.0.blocks.0.attn.w_msa.relative_position_bias_table - torch.Size([529, 6]): \n",
            "Initialized by user-defined `init_weights` in SwinTransformer  \n",
            " \n",
            "10/10 15:52:48 - mmengine - \u001b[4m\u001b[97mINFO\u001b[0m - \n",
            "backbone.stages.0.blocks.0.attn.w_msa.qkv.weight - torch.Size([576, 192]): \n",
            "Initialized by user-defined `init_weights` in SwinTransformer  \n",
            " \n",
            "10/10 15:52:48 - mmengine - \u001b[4m\u001b[97mINFO\u001b[0m - \n",
            "backbone.stages.0.blocks.0.attn.w_msa.qkv.bias - torch.Size([576]): \n",
            "Initialized by user-defined `init_weights` in SwinTransformer  \n",
            " \n",
            "10/10 15:52:48 - mmengine - \u001b[4m\u001b[97mINFO\u001b[0m - \n",
            "backbone.stages.0.blocks.0.attn.w_msa.proj.weight - torch.Size([192, 192]): \n",
            "Initialized by user-defined `init_weights` in SwinTransformer  \n",
            " \n",
            "10/10 15:52:48 - mmengine - \u001b[4m\u001b[97mINFO\u001b[0m - \n",
            "backbone.stages.0.blocks.0.attn.w_msa.proj.bias - torch.Size([192]): \n",
            "Initialized by user-defined `init_weights` in SwinTransformer  \n",
            " \n",
            "10/10 15:52:48 - mmengine - \u001b[4m\u001b[97mINFO\u001b[0m - \n",
            "backbone.stages.0.blocks.0.norm2.weight - torch.Size([192]): \n",
            "Initialized by user-defined `init_weights` in SwinTransformer  \n",
            " \n",
            "10/10 15:52:48 - mmengine - \u001b[4m\u001b[97mINFO\u001b[0m - \n",
            "backbone.stages.0.blocks.0.norm2.bias - torch.Size([192]): \n",
            "Initialized by user-defined `init_weights` in SwinTransformer  \n",
            " \n",
            "10/10 15:52:48 - mmengine - \u001b[4m\u001b[97mINFO\u001b[0m - \n",
            "backbone.stages.0.blocks.0.ffn.layers.0.0.weight - torch.Size([768, 192]): \n",
            "Initialized by user-defined `init_weights` in SwinTransformer  \n",
            " \n",
            "10/10 15:52:48 - mmengine - \u001b[4m\u001b[97mINFO\u001b[0m - \n",
            "backbone.stages.0.blocks.0.ffn.layers.0.0.bias - torch.Size([768]): \n",
            "Initialized by user-defined `init_weights` in SwinTransformer  \n",
            " \n",
            "10/10 15:52:48 - mmengine - \u001b[4m\u001b[97mINFO\u001b[0m - \n",
            "backbone.stages.0.blocks.0.ffn.layers.1.weight - torch.Size([192, 768]): \n",
            "Initialized by user-defined `init_weights` in SwinTransformer  \n",
            " \n",
            "10/10 15:52:48 - mmengine - \u001b[4m\u001b[97mINFO\u001b[0m - \n",
            "backbone.stages.0.blocks.0.ffn.layers.1.bias - torch.Size([192]): \n",
            "Initialized by user-defined `init_weights` in SwinTransformer  \n",
            " \n",
            "10/10 15:52:48 - mmengine - \u001b[4m\u001b[97mINFO\u001b[0m - \n",
            "backbone.stages.0.blocks.1.norm1.weight - torch.Size([192]): \n",
            "Initialized by user-defined `init_weights` in SwinTransformer  \n",
            " \n",
            "10/10 15:52:48 - mmengine - \u001b[4m\u001b[97mINFO\u001b[0m - \n",
            "backbone.stages.0.blocks.1.norm1.bias - torch.Size([192]): \n",
            "Initialized by user-defined `init_weights` in SwinTransformer  \n",
            " \n",
            "10/10 15:52:48 - mmengine - \u001b[4m\u001b[97mINFO\u001b[0m - \n",
            "backbone.stages.0.blocks.1.attn.w_msa.relative_position_bias_table - torch.Size([529, 6]): \n",
            "Initialized by user-defined `init_weights` in SwinTransformer  \n",
            " \n",
            "10/10 15:52:48 - mmengine - \u001b[4m\u001b[97mINFO\u001b[0m - \n",
            "backbone.stages.0.blocks.1.attn.w_msa.qkv.weight - torch.Size([576, 192]): \n",
            "Initialized by user-defined `init_weights` in SwinTransformer  \n",
            " \n",
            "10/10 15:52:48 - mmengine - \u001b[4m\u001b[97mINFO\u001b[0m - \n",
            "backbone.stages.0.blocks.1.attn.w_msa.qkv.bias - torch.Size([576]): \n",
            "Initialized by user-defined `init_weights` in SwinTransformer  \n",
            " \n",
            "10/10 15:52:48 - mmengine - \u001b[4m\u001b[97mINFO\u001b[0m - \n",
            "backbone.stages.0.blocks.1.attn.w_msa.proj.weight - torch.Size([192, 192]): \n",
            "Initialized by user-defined `init_weights` in SwinTransformer  \n",
            " \n",
            "10/10 15:52:48 - mmengine - \u001b[4m\u001b[97mINFO\u001b[0m - \n",
            "backbone.stages.0.blocks.1.attn.w_msa.proj.bias - torch.Size([192]): \n",
            "Initialized by user-defined `init_weights` in SwinTransformer  \n",
            " \n",
            "10/10 15:52:48 - mmengine - \u001b[4m\u001b[97mINFO\u001b[0m - \n",
            "backbone.stages.0.blocks.1.norm2.weight - torch.Size([192]): \n",
            "Initialized by user-defined `init_weights` in SwinTransformer  \n",
            " \n",
            "10/10 15:52:48 - mmengine - \u001b[4m\u001b[97mINFO\u001b[0m - \n",
            "backbone.stages.0.blocks.1.norm2.bias - torch.Size([192]): \n",
            "Initialized by user-defined `init_weights` in SwinTransformer  \n",
            " \n",
            "10/10 15:52:48 - mmengine - \u001b[4m\u001b[97mINFO\u001b[0m - \n",
            "backbone.stages.0.blocks.1.ffn.layers.0.0.weight - torch.Size([768, 192]): \n",
            "Initialized by user-defined `init_weights` in SwinTransformer  \n",
            " \n",
            "10/10 15:52:48 - mmengine - \u001b[4m\u001b[97mINFO\u001b[0m - \n",
            "backbone.stages.0.blocks.1.ffn.layers.0.0.bias - torch.Size([768]): \n",
            "Initialized by user-defined `init_weights` in SwinTransformer  \n",
            " \n",
            "10/10 15:52:48 - mmengine - \u001b[4m\u001b[97mINFO\u001b[0m - \n",
            "backbone.stages.0.blocks.1.ffn.layers.1.weight - torch.Size([192, 768]): \n",
            "Initialized by user-defined `init_weights` in SwinTransformer  \n",
            " \n",
            "10/10 15:52:48 - mmengine - \u001b[4m\u001b[97mINFO\u001b[0m - \n",
            "backbone.stages.0.blocks.1.ffn.layers.1.bias - torch.Size([192]): \n",
            "Initialized by user-defined `init_weights` in SwinTransformer  \n",
            " \n",
            "10/10 15:52:48 - mmengine - \u001b[4m\u001b[97mINFO\u001b[0m - \n",
            "backbone.stages.0.downsample.norm.weight - torch.Size([768]): \n",
            "Initialized by user-defined `init_weights` in SwinTransformer  \n",
            " \n",
            "10/10 15:52:48 - mmengine - \u001b[4m\u001b[97mINFO\u001b[0m - \n",
            "backbone.stages.0.downsample.norm.bias - torch.Size([768]): \n",
            "Initialized by user-defined `init_weights` in SwinTransformer  \n",
            " \n",
            "10/10 15:52:48 - mmengine - \u001b[4m\u001b[97mINFO\u001b[0m - \n",
            "backbone.stages.0.downsample.reduction.weight - torch.Size([384, 768]): \n",
            "Initialized by user-defined `init_weights` in SwinTransformer  \n",
            " \n",
            "10/10 15:52:48 - mmengine - \u001b[4m\u001b[97mINFO\u001b[0m - \n",
            "backbone.stages.1.blocks.0.norm1.weight - torch.Size([384]): \n",
            "Initialized by user-defined `init_weights` in SwinTransformer  \n",
            " \n",
            "10/10 15:52:48 - mmengine - \u001b[4m\u001b[97mINFO\u001b[0m - \n",
            "backbone.stages.1.blocks.0.norm1.bias - torch.Size([384]): \n",
            "Initialized by user-defined `init_weights` in SwinTransformer  \n",
            " \n",
            "10/10 15:52:48 - mmengine - \u001b[4m\u001b[97mINFO\u001b[0m - \n",
            "backbone.stages.1.blocks.0.attn.w_msa.relative_position_bias_table - torch.Size([529, 12]): \n",
            "Initialized by user-defined `init_weights` in SwinTransformer  \n",
            " \n",
            "10/10 15:52:48 - mmengine - \u001b[4m\u001b[97mINFO\u001b[0m - \n",
            "backbone.stages.1.blocks.0.attn.w_msa.qkv.weight - torch.Size([1152, 384]): \n",
            "Initialized by user-defined `init_weights` in SwinTransformer  \n",
            " \n",
            "10/10 15:52:48 - mmengine - \u001b[4m\u001b[97mINFO\u001b[0m - \n",
            "backbone.stages.1.blocks.0.attn.w_msa.qkv.bias - torch.Size([1152]): \n",
            "Initialized by user-defined `init_weights` in SwinTransformer  \n",
            " \n",
            "10/10 15:52:48 - mmengine - \u001b[4m\u001b[97mINFO\u001b[0m - \n",
            "backbone.stages.1.blocks.0.attn.w_msa.proj.weight - torch.Size([384, 384]): \n",
            "Initialized by user-defined `init_weights` in SwinTransformer  \n",
            " \n",
            "10/10 15:52:48 - mmengine - \u001b[4m\u001b[97mINFO\u001b[0m - \n",
            "backbone.stages.1.blocks.0.attn.w_msa.proj.bias - torch.Size([384]): \n",
            "Initialized by user-defined `init_weights` in SwinTransformer  \n",
            " \n",
            "10/10 15:52:48 - mmengine - \u001b[4m\u001b[97mINFO\u001b[0m - \n",
            "backbone.stages.1.blocks.0.norm2.weight - torch.Size([384]): \n",
            "Initialized by user-defined `init_weights` in SwinTransformer  \n",
            " \n",
            "10/10 15:52:48 - mmengine - \u001b[4m\u001b[97mINFO\u001b[0m - \n",
            "backbone.stages.1.blocks.0.norm2.bias - torch.Size([384]): \n",
            "Initialized by user-defined `init_weights` in SwinTransformer  \n",
            " \n",
            "10/10 15:52:48 - mmengine - \u001b[4m\u001b[97mINFO\u001b[0m - \n",
            "backbone.stages.1.blocks.0.ffn.layers.0.0.weight - torch.Size([1536, 384]): \n",
            "Initialized by user-defined `init_weights` in SwinTransformer  \n",
            " \n",
            "10/10 15:52:48 - mmengine - \u001b[4m\u001b[97mINFO\u001b[0m - \n",
            "backbone.stages.1.blocks.0.ffn.layers.0.0.bias - torch.Size([1536]): \n",
            "Initialized by user-defined `init_weights` in SwinTransformer  \n",
            " \n",
            "10/10 15:52:48 - mmengine - \u001b[4m\u001b[97mINFO\u001b[0m - \n",
            "backbone.stages.1.blocks.0.ffn.layers.1.weight - torch.Size([384, 1536]): \n",
            "Initialized by user-defined `init_weights` in SwinTransformer  \n",
            " \n",
            "10/10 15:52:48 - mmengine - \u001b[4m\u001b[97mINFO\u001b[0m - \n",
            "backbone.stages.1.blocks.0.ffn.layers.1.bias - torch.Size([384]): \n",
            "Initialized by user-defined `init_weights` in SwinTransformer  \n",
            " \n",
            "10/10 15:52:48 - mmengine - \u001b[4m\u001b[97mINFO\u001b[0m - \n",
            "backbone.stages.1.blocks.1.norm1.weight - torch.Size([384]): \n",
            "Initialized by user-defined `init_weights` in SwinTransformer  \n",
            " \n",
            "10/10 15:52:48 - mmengine - \u001b[4m\u001b[97mINFO\u001b[0m - \n",
            "backbone.stages.1.blocks.1.norm1.bias - torch.Size([384]): \n",
            "Initialized by user-defined `init_weights` in SwinTransformer  \n",
            " \n",
            "10/10 15:52:48 - mmengine - \u001b[4m\u001b[97mINFO\u001b[0m - \n",
            "backbone.stages.1.blocks.1.attn.w_msa.relative_position_bias_table - torch.Size([529, 12]): \n",
            "Initialized by user-defined `init_weights` in SwinTransformer  \n",
            " \n",
            "10/10 15:52:48 - mmengine - \u001b[4m\u001b[97mINFO\u001b[0m - \n",
            "backbone.stages.1.blocks.1.attn.w_msa.qkv.weight - torch.Size([1152, 384]): \n",
            "Initialized by user-defined `init_weights` in SwinTransformer  \n",
            " \n",
            "10/10 15:52:48 - mmengine - \u001b[4m\u001b[97mINFO\u001b[0m - \n",
            "backbone.stages.1.blocks.1.attn.w_msa.qkv.bias - torch.Size([1152]): \n",
            "Initialized by user-defined `init_weights` in SwinTransformer  \n",
            " \n",
            "10/10 15:52:48 - mmengine - \u001b[4m\u001b[97mINFO\u001b[0m - \n",
            "backbone.stages.1.blocks.1.attn.w_msa.proj.weight - torch.Size([384, 384]): \n",
            "Initialized by user-defined `init_weights` in SwinTransformer  \n",
            " \n",
            "10/10 15:52:48 - mmengine - \u001b[4m\u001b[97mINFO\u001b[0m - \n",
            "backbone.stages.1.blocks.1.attn.w_msa.proj.bias - torch.Size([384]): \n",
            "Initialized by user-defined `init_weights` in SwinTransformer  \n",
            " \n",
            "10/10 15:52:48 - mmengine - \u001b[4m\u001b[97mINFO\u001b[0m - \n",
            "backbone.stages.1.blocks.1.norm2.weight - torch.Size([384]): \n",
            "Initialized by user-defined `init_weights` in SwinTransformer  \n",
            " \n",
            "10/10 15:52:48 - mmengine - \u001b[4m\u001b[97mINFO\u001b[0m - \n",
            "backbone.stages.1.blocks.1.norm2.bias - torch.Size([384]): \n",
            "Initialized by user-defined `init_weights` in SwinTransformer  \n",
            " \n",
            "10/10 15:52:48 - mmengine - \u001b[4m\u001b[97mINFO\u001b[0m - \n",
            "backbone.stages.1.blocks.1.ffn.layers.0.0.weight - torch.Size([1536, 384]): \n",
            "Initialized by user-defined `init_weights` in SwinTransformer  \n",
            " \n",
            "10/10 15:52:48 - mmengine - \u001b[4m\u001b[97mINFO\u001b[0m - \n",
            "backbone.stages.1.blocks.1.ffn.layers.0.0.bias - torch.Size([1536]): \n",
            "Initialized by user-defined `init_weights` in SwinTransformer  \n",
            " \n",
            "10/10 15:52:48 - mmengine - \u001b[4m\u001b[97mINFO\u001b[0m - \n",
            "backbone.stages.1.blocks.1.ffn.layers.1.weight - torch.Size([384, 1536]): \n",
            "Initialized by user-defined `init_weights` in SwinTransformer  \n",
            " \n",
            "10/10 15:52:48 - mmengine - \u001b[4m\u001b[97mINFO\u001b[0m - \n",
            "backbone.stages.1.blocks.1.ffn.layers.1.bias - torch.Size([384]): \n",
            "Initialized by user-defined `init_weights` in SwinTransformer  \n",
            " \n",
            "10/10 15:52:48 - mmengine - \u001b[4m\u001b[97mINFO\u001b[0m - \n",
            "backbone.stages.1.downsample.norm.weight - torch.Size([1536]): \n",
            "Initialized by user-defined `init_weights` in SwinTransformer  \n",
            " \n",
            "10/10 15:52:48 - mmengine - \u001b[4m\u001b[97mINFO\u001b[0m - \n",
            "backbone.stages.1.downsample.norm.bias - torch.Size([1536]): \n",
            "Initialized by user-defined `init_weights` in SwinTransformer  \n",
            " \n",
            "10/10 15:52:48 - mmengine - \u001b[4m\u001b[97mINFO\u001b[0m - \n",
            "backbone.stages.1.downsample.reduction.weight - torch.Size([768, 1536]): \n",
            "Initialized by user-defined `init_weights` in SwinTransformer  \n",
            " \n",
            "10/10 15:52:48 - mmengine - \u001b[4m\u001b[97mINFO\u001b[0m - \n",
            "backbone.stages.2.blocks.0.norm1.weight - torch.Size([768]): \n",
            "Initialized by user-defined `init_weights` in SwinTransformer  \n",
            " \n",
            "10/10 15:52:48 - mmengine - \u001b[4m\u001b[97mINFO\u001b[0m - \n",
            "backbone.stages.2.blocks.0.norm1.bias - torch.Size([768]): \n",
            "Initialized by user-defined `init_weights` in SwinTransformer  \n",
            " \n",
            "10/10 15:52:48 - mmengine - \u001b[4m\u001b[97mINFO\u001b[0m - \n",
            "backbone.stages.2.blocks.0.attn.w_msa.relative_position_bias_table - torch.Size([529, 24]): \n",
            "Initialized by user-defined `init_weights` in SwinTransformer  \n",
            " \n",
            "10/10 15:52:48 - mmengine - \u001b[4m\u001b[97mINFO\u001b[0m - \n",
            "backbone.stages.2.blocks.0.attn.w_msa.qkv.weight - torch.Size([2304, 768]): \n",
            "Initialized by user-defined `init_weights` in SwinTransformer  \n",
            " \n",
            "10/10 15:52:48 - mmengine - \u001b[4m\u001b[97mINFO\u001b[0m - \n",
            "backbone.stages.2.blocks.0.attn.w_msa.qkv.bias - torch.Size([2304]): \n",
            "Initialized by user-defined `init_weights` in SwinTransformer  \n",
            " \n",
            "10/10 15:52:48 - mmengine - \u001b[4m\u001b[97mINFO\u001b[0m - \n",
            "backbone.stages.2.blocks.0.attn.w_msa.proj.weight - torch.Size([768, 768]): \n",
            "Initialized by user-defined `init_weights` in SwinTransformer  \n",
            " \n",
            "10/10 15:52:48 - mmengine - \u001b[4m\u001b[97mINFO\u001b[0m - \n",
            "backbone.stages.2.blocks.0.attn.w_msa.proj.bias - torch.Size([768]): \n",
            "Initialized by user-defined `init_weights` in SwinTransformer  \n",
            " \n",
            "10/10 15:52:48 - mmengine - \u001b[4m\u001b[97mINFO\u001b[0m - \n",
            "backbone.stages.2.blocks.0.norm2.weight - torch.Size([768]): \n",
            "Initialized by user-defined `init_weights` in SwinTransformer  \n",
            " \n",
            "10/10 15:52:48 - mmengine - \u001b[4m\u001b[97mINFO\u001b[0m - \n",
            "backbone.stages.2.blocks.0.norm2.bias - torch.Size([768]): \n",
            "Initialized by user-defined `init_weights` in SwinTransformer  \n",
            " \n",
            "10/10 15:52:48 - mmengine - \u001b[4m\u001b[97mINFO\u001b[0m - \n",
            "backbone.stages.2.blocks.0.ffn.layers.0.0.weight - torch.Size([3072, 768]): \n",
            "Initialized by user-defined `init_weights` in SwinTransformer  \n",
            " \n",
            "10/10 15:52:48 - mmengine - \u001b[4m\u001b[97mINFO\u001b[0m - \n",
            "backbone.stages.2.blocks.0.ffn.layers.0.0.bias - torch.Size([3072]): \n",
            "Initialized by user-defined `init_weights` in SwinTransformer  \n",
            " \n",
            "10/10 15:52:48 - mmengine - \u001b[4m\u001b[97mINFO\u001b[0m - \n",
            "backbone.stages.2.blocks.0.ffn.layers.1.weight - torch.Size([768, 3072]): \n",
            "Initialized by user-defined `init_weights` in SwinTransformer  \n",
            " \n",
            "10/10 15:52:48 - mmengine - \u001b[4m\u001b[97mINFO\u001b[0m - \n",
            "backbone.stages.2.blocks.0.ffn.layers.1.bias - torch.Size([768]): \n",
            "Initialized by user-defined `init_weights` in SwinTransformer  \n",
            " \n",
            "10/10 15:52:48 - mmengine - \u001b[4m\u001b[97mINFO\u001b[0m - \n",
            "backbone.stages.2.blocks.1.norm1.weight - torch.Size([768]): \n",
            "Initialized by user-defined `init_weights` in SwinTransformer  \n",
            " \n",
            "10/10 15:52:48 - mmengine - \u001b[4m\u001b[97mINFO\u001b[0m - \n",
            "backbone.stages.2.blocks.1.norm1.bias - torch.Size([768]): \n",
            "Initialized by user-defined `init_weights` in SwinTransformer  \n",
            " \n",
            "10/10 15:52:48 - mmengine - \u001b[4m\u001b[97mINFO\u001b[0m - \n",
            "backbone.stages.2.blocks.1.attn.w_msa.relative_position_bias_table - torch.Size([529, 24]): \n",
            "Initialized by user-defined `init_weights` in SwinTransformer  \n",
            " \n",
            "10/10 15:52:48 - mmengine - \u001b[4m\u001b[97mINFO\u001b[0m - \n",
            "backbone.stages.2.blocks.1.attn.w_msa.qkv.weight - torch.Size([2304, 768]): \n",
            "Initialized by user-defined `init_weights` in SwinTransformer  \n",
            " \n",
            "10/10 15:52:48 - mmengine - \u001b[4m\u001b[97mINFO\u001b[0m - \n",
            "backbone.stages.2.blocks.1.attn.w_msa.qkv.bias - torch.Size([2304]): \n",
            "Initialized by user-defined `init_weights` in SwinTransformer  \n",
            " \n",
            "10/10 15:52:48 - mmengine - \u001b[4m\u001b[97mINFO\u001b[0m - \n",
            "backbone.stages.2.blocks.1.attn.w_msa.proj.weight - torch.Size([768, 768]): \n",
            "Initialized by user-defined `init_weights` in SwinTransformer  \n",
            " \n",
            "10/10 15:52:48 - mmengine - \u001b[4m\u001b[97mINFO\u001b[0m - \n",
            "backbone.stages.2.blocks.1.attn.w_msa.proj.bias - torch.Size([768]): \n",
            "Initialized by user-defined `init_weights` in SwinTransformer  \n",
            " \n",
            "10/10 15:52:48 - mmengine - \u001b[4m\u001b[97mINFO\u001b[0m - \n",
            "backbone.stages.2.blocks.1.norm2.weight - torch.Size([768]): \n",
            "Initialized by user-defined `init_weights` in SwinTransformer  \n",
            " \n",
            "10/10 15:52:48 - mmengine - \u001b[4m\u001b[97mINFO\u001b[0m - \n",
            "backbone.stages.2.blocks.1.norm2.bias - torch.Size([768]): \n",
            "Initialized by user-defined `init_weights` in SwinTransformer  \n",
            " \n",
            "10/10 15:52:48 - mmengine - \u001b[4m\u001b[97mINFO\u001b[0m - \n",
            "backbone.stages.2.blocks.1.ffn.layers.0.0.weight - torch.Size([3072, 768]): \n",
            "Initialized by user-defined `init_weights` in SwinTransformer  \n",
            " \n",
            "10/10 15:52:48 - mmengine - \u001b[4m\u001b[97mINFO\u001b[0m - \n",
            "backbone.stages.2.blocks.1.ffn.layers.0.0.bias - torch.Size([3072]): \n",
            "Initialized by user-defined `init_weights` in SwinTransformer  \n",
            " \n",
            "10/10 15:52:48 - mmengine - \u001b[4m\u001b[97mINFO\u001b[0m - \n",
            "backbone.stages.2.blocks.1.ffn.layers.1.weight - torch.Size([768, 3072]): \n",
            "Initialized by user-defined `init_weights` in SwinTransformer  \n",
            " \n",
            "10/10 15:52:48 - mmengine - \u001b[4m\u001b[97mINFO\u001b[0m - \n",
            "backbone.stages.2.blocks.1.ffn.layers.1.bias - torch.Size([768]): \n",
            "Initialized by user-defined `init_weights` in SwinTransformer  \n",
            " \n",
            "10/10 15:52:48 - mmengine - \u001b[4m\u001b[97mINFO\u001b[0m - \n",
            "backbone.stages.2.blocks.2.norm1.weight - torch.Size([768]): \n",
            "Initialized by user-defined `init_weights` in SwinTransformer  \n",
            " \n",
            "10/10 15:52:48 - mmengine - \u001b[4m\u001b[97mINFO\u001b[0m - \n",
            "backbone.stages.2.blocks.2.norm1.bias - torch.Size([768]): \n",
            "Initialized by user-defined `init_weights` in SwinTransformer  \n",
            " \n",
            "10/10 15:52:48 - mmengine - \u001b[4m\u001b[97mINFO\u001b[0m - \n",
            "backbone.stages.2.blocks.2.attn.w_msa.relative_position_bias_table - torch.Size([529, 24]): \n",
            "Initialized by user-defined `init_weights` in SwinTransformer  \n",
            " \n",
            "10/10 15:52:48 - mmengine - \u001b[4m\u001b[97mINFO\u001b[0m - \n",
            "backbone.stages.2.blocks.2.attn.w_msa.qkv.weight - torch.Size([2304, 768]): \n",
            "Initialized by user-defined `init_weights` in SwinTransformer  \n",
            " \n",
            "10/10 15:52:48 - mmengine - \u001b[4m\u001b[97mINFO\u001b[0m - \n",
            "backbone.stages.2.blocks.2.attn.w_msa.qkv.bias - torch.Size([2304]): \n",
            "Initialized by user-defined `init_weights` in SwinTransformer  \n",
            " \n",
            "10/10 15:52:48 - mmengine - \u001b[4m\u001b[97mINFO\u001b[0m - \n",
            "backbone.stages.2.blocks.2.attn.w_msa.proj.weight - torch.Size([768, 768]): \n",
            "Initialized by user-defined `init_weights` in SwinTransformer  \n",
            " \n",
            "10/10 15:52:48 - mmengine - \u001b[4m\u001b[97mINFO\u001b[0m - \n",
            "backbone.stages.2.blocks.2.attn.w_msa.proj.bias - torch.Size([768]): \n",
            "Initialized by user-defined `init_weights` in SwinTransformer  \n",
            " \n",
            "10/10 15:52:48 - mmengine - \u001b[4m\u001b[97mINFO\u001b[0m - \n",
            "backbone.stages.2.blocks.2.norm2.weight - torch.Size([768]): \n",
            "Initialized by user-defined `init_weights` in SwinTransformer  \n",
            " \n",
            "10/10 15:52:48 - mmengine - \u001b[4m\u001b[97mINFO\u001b[0m - \n",
            "backbone.stages.2.blocks.2.norm2.bias - torch.Size([768]): \n",
            "Initialized by user-defined `init_weights` in SwinTransformer  \n",
            " \n",
            "10/10 15:52:48 - mmengine - \u001b[4m\u001b[97mINFO\u001b[0m - \n",
            "backbone.stages.2.blocks.2.ffn.layers.0.0.weight - torch.Size([3072, 768]): \n",
            "Initialized by user-defined `init_weights` in SwinTransformer  \n",
            " \n",
            "10/10 15:52:48 - mmengine - \u001b[4m\u001b[97mINFO\u001b[0m - \n",
            "backbone.stages.2.blocks.2.ffn.layers.0.0.bias - torch.Size([3072]): \n",
            "Initialized by user-defined `init_weights` in SwinTransformer  \n",
            " \n",
            "10/10 15:52:48 - mmengine - \u001b[4m\u001b[97mINFO\u001b[0m - \n",
            "backbone.stages.2.blocks.2.ffn.layers.1.weight - torch.Size([768, 3072]): \n",
            "Initialized by user-defined `init_weights` in SwinTransformer  \n",
            " \n",
            "10/10 15:52:48 - mmengine - \u001b[4m\u001b[97mINFO\u001b[0m - \n",
            "backbone.stages.2.blocks.2.ffn.layers.1.bias - torch.Size([768]): \n",
            "Initialized by user-defined `init_weights` in SwinTransformer  \n",
            " \n",
            "10/10 15:52:48 - mmengine - \u001b[4m\u001b[97mINFO\u001b[0m - \n",
            "backbone.stages.2.blocks.3.norm1.weight - torch.Size([768]): \n",
            "Initialized by user-defined `init_weights` in SwinTransformer  \n",
            " \n",
            "10/10 15:52:48 - mmengine - \u001b[4m\u001b[97mINFO\u001b[0m - \n",
            "backbone.stages.2.blocks.3.norm1.bias - torch.Size([768]): \n",
            "Initialized by user-defined `init_weights` in SwinTransformer  \n",
            " \n",
            "10/10 15:52:48 - mmengine - \u001b[4m\u001b[97mINFO\u001b[0m - \n",
            "backbone.stages.2.blocks.3.attn.w_msa.relative_position_bias_table - torch.Size([529, 24]): \n",
            "Initialized by user-defined `init_weights` in SwinTransformer  \n",
            " \n",
            "10/10 15:52:48 - mmengine - \u001b[4m\u001b[97mINFO\u001b[0m - \n",
            "backbone.stages.2.blocks.3.attn.w_msa.qkv.weight - torch.Size([2304, 768]): \n",
            "Initialized by user-defined `init_weights` in SwinTransformer  \n",
            " \n",
            "10/10 15:52:48 - mmengine - \u001b[4m\u001b[97mINFO\u001b[0m - \n",
            "backbone.stages.2.blocks.3.attn.w_msa.qkv.bias - torch.Size([2304]): \n",
            "Initialized by user-defined `init_weights` in SwinTransformer  \n",
            " \n",
            "10/10 15:52:48 - mmengine - \u001b[4m\u001b[97mINFO\u001b[0m - \n",
            "backbone.stages.2.blocks.3.attn.w_msa.proj.weight - torch.Size([768, 768]): \n",
            "Initialized by user-defined `init_weights` in SwinTransformer  \n",
            " \n",
            "10/10 15:52:48 - mmengine - \u001b[4m\u001b[97mINFO\u001b[0m - \n",
            "backbone.stages.2.blocks.3.attn.w_msa.proj.bias - torch.Size([768]): \n",
            "Initialized by user-defined `init_weights` in SwinTransformer  \n",
            " \n",
            "10/10 15:52:48 - mmengine - \u001b[4m\u001b[97mINFO\u001b[0m - \n",
            "backbone.stages.2.blocks.3.norm2.weight - torch.Size([768]): \n",
            "Initialized by user-defined `init_weights` in SwinTransformer  \n",
            " \n",
            "10/10 15:52:48 - mmengine - \u001b[4m\u001b[97mINFO\u001b[0m - \n",
            "backbone.stages.2.blocks.3.norm2.bias - torch.Size([768]): \n",
            "Initialized by user-defined `init_weights` in SwinTransformer  \n",
            " \n",
            "10/10 15:52:48 - mmengine - \u001b[4m\u001b[97mINFO\u001b[0m - \n",
            "backbone.stages.2.blocks.3.ffn.layers.0.0.weight - torch.Size([3072, 768]): \n",
            "Initialized by user-defined `init_weights` in SwinTransformer  \n",
            " \n",
            "10/10 15:52:48 - mmengine - \u001b[4m\u001b[97mINFO\u001b[0m - \n",
            "backbone.stages.2.blocks.3.ffn.layers.0.0.bias - torch.Size([3072]): \n",
            "Initialized by user-defined `init_weights` in SwinTransformer  \n",
            " \n",
            "10/10 15:52:48 - mmengine - \u001b[4m\u001b[97mINFO\u001b[0m - \n",
            "backbone.stages.2.blocks.3.ffn.layers.1.weight - torch.Size([768, 3072]): \n",
            "Initialized by user-defined `init_weights` in SwinTransformer  \n",
            " \n",
            "10/10 15:52:48 - mmengine - \u001b[4m\u001b[97mINFO\u001b[0m - \n",
            "backbone.stages.2.blocks.3.ffn.layers.1.bias - torch.Size([768]): \n",
            "Initialized by user-defined `init_weights` in SwinTransformer  \n",
            " \n",
            "10/10 15:52:48 - mmengine - \u001b[4m\u001b[97mINFO\u001b[0m - \n",
            "backbone.stages.2.blocks.4.norm1.weight - torch.Size([768]): \n",
            "Initialized by user-defined `init_weights` in SwinTransformer  \n",
            " \n",
            "10/10 15:52:48 - mmengine - \u001b[4m\u001b[97mINFO\u001b[0m - \n",
            "backbone.stages.2.blocks.4.norm1.bias - torch.Size([768]): \n",
            "Initialized by user-defined `init_weights` in SwinTransformer  \n",
            " \n",
            "10/10 15:52:48 - mmengine - \u001b[4m\u001b[97mINFO\u001b[0m - \n",
            "backbone.stages.2.blocks.4.attn.w_msa.relative_position_bias_table - torch.Size([529, 24]): \n",
            "Initialized by user-defined `init_weights` in SwinTransformer  \n",
            " \n",
            "10/10 15:52:48 - mmengine - \u001b[4m\u001b[97mINFO\u001b[0m - \n",
            "backbone.stages.2.blocks.4.attn.w_msa.qkv.weight - torch.Size([2304, 768]): \n",
            "Initialized by user-defined `init_weights` in SwinTransformer  \n",
            " \n",
            "10/10 15:52:48 - mmengine - \u001b[4m\u001b[97mINFO\u001b[0m - \n",
            "backbone.stages.2.blocks.4.attn.w_msa.qkv.bias - torch.Size([2304]): \n",
            "Initialized by user-defined `init_weights` in SwinTransformer  \n",
            " \n",
            "10/10 15:52:48 - mmengine - \u001b[4m\u001b[97mINFO\u001b[0m - \n",
            "backbone.stages.2.blocks.4.attn.w_msa.proj.weight - torch.Size([768, 768]): \n",
            "Initialized by user-defined `init_weights` in SwinTransformer  \n",
            " \n",
            "10/10 15:52:48 - mmengine - \u001b[4m\u001b[97mINFO\u001b[0m - \n",
            "backbone.stages.2.blocks.4.attn.w_msa.proj.bias - torch.Size([768]): \n",
            "Initialized by user-defined `init_weights` in SwinTransformer  \n",
            " \n",
            "10/10 15:52:48 - mmengine - \u001b[4m\u001b[97mINFO\u001b[0m - \n",
            "backbone.stages.2.blocks.4.norm2.weight - torch.Size([768]): \n",
            "Initialized by user-defined `init_weights` in SwinTransformer  \n",
            " \n",
            "10/10 15:52:48 - mmengine - \u001b[4m\u001b[97mINFO\u001b[0m - \n",
            "backbone.stages.2.blocks.4.norm2.bias - torch.Size([768]): \n",
            "Initialized by user-defined `init_weights` in SwinTransformer  \n",
            " \n",
            "10/10 15:52:48 - mmengine - \u001b[4m\u001b[97mINFO\u001b[0m - \n",
            "backbone.stages.2.blocks.4.ffn.layers.0.0.weight - torch.Size([3072, 768]): \n",
            "Initialized by user-defined `init_weights` in SwinTransformer  \n",
            " \n",
            "10/10 15:52:48 - mmengine - \u001b[4m\u001b[97mINFO\u001b[0m - \n",
            "backbone.stages.2.blocks.4.ffn.layers.0.0.bias - torch.Size([3072]): \n",
            "Initialized by user-defined `init_weights` in SwinTransformer  \n",
            " \n",
            "10/10 15:52:48 - mmengine - \u001b[4m\u001b[97mINFO\u001b[0m - \n",
            "backbone.stages.2.blocks.4.ffn.layers.1.weight - torch.Size([768, 3072]): \n",
            "Initialized by user-defined `init_weights` in SwinTransformer  \n",
            " \n",
            "10/10 15:52:48 - mmengine - \u001b[4m\u001b[97mINFO\u001b[0m - \n",
            "backbone.stages.2.blocks.4.ffn.layers.1.bias - torch.Size([768]): \n",
            "Initialized by user-defined `init_weights` in SwinTransformer  \n",
            " \n",
            "10/10 15:52:48 - mmengine - \u001b[4m\u001b[97mINFO\u001b[0m - \n",
            "backbone.stages.2.blocks.5.norm1.weight - torch.Size([768]): \n",
            "Initialized by user-defined `init_weights` in SwinTransformer  \n",
            " \n",
            "10/10 15:52:48 - mmengine - \u001b[4m\u001b[97mINFO\u001b[0m - \n",
            "backbone.stages.2.blocks.5.norm1.bias - torch.Size([768]): \n",
            "Initialized by user-defined `init_weights` in SwinTransformer  \n",
            " \n",
            "10/10 15:52:48 - mmengine - \u001b[4m\u001b[97mINFO\u001b[0m - \n",
            "backbone.stages.2.blocks.5.attn.w_msa.relative_position_bias_table - torch.Size([529, 24]): \n",
            "Initialized by user-defined `init_weights` in SwinTransformer  \n",
            " \n",
            "10/10 15:52:48 - mmengine - \u001b[4m\u001b[97mINFO\u001b[0m - \n",
            "backbone.stages.2.blocks.5.attn.w_msa.qkv.weight - torch.Size([2304, 768]): \n",
            "Initialized by user-defined `init_weights` in SwinTransformer  \n",
            " \n",
            "10/10 15:52:48 - mmengine - \u001b[4m\u001b[97mINFO\u001b[0m - \n",
            "backbone.stages.2.blocks.5.attn.w_msa.qkv.bias - torch.Size([2304]): \n",
            "Initialized by user-defined `init_weights` in SwinTransformer  \n",
            " \n",
            "10/10 15:52:48 - mmengine - \u001b[4m\u001b[97mINFO\u001b[0m - \n",
            "backbone.stages.2.blocks.5.attn.w_msa.proj.weight - torch.Size([768, 768]): \n",
            "Initialized by user-defined `init_weights` in SwinTransformer  \n",
            " \n",
            "10/10 15:52:48 - mmengine - \u001b[4m\u001b[97mINFO\u001b[0m - \n",
            "backbone.stages.2.blocks.5.attn.w_msa.proj.bias - torch.Size([768]): \n",
            "Initialized by user-defined `init_weights` in SwinTransformer  \n",
            " \n",
            "10/10 15:52:48 - mmengine - \u001b[4m\u001b[97mINFO\u001b[0m - \n",
            "backbone.stages.2.blocks.5.norm2.weight - torch.Size([768]): \n",
            "Initialized by user-defined `init_weights` in SwinTransformer  \n",
            " \n",
            "10/10 15:52:48 - mmengine - \u001b[4m\u001b[97mINFO\u001b[0m - \n",
            "backbone.stages.2.blocks.5.norm2.bias - torch.Size([768]): \n",
            "Initialized by user-defined `init_weights` in SwinTransformer  \n",
            " \n",
            "10/10 15:52:48 - mmengine - \u001b[4m\u001b[97mINFO\u001b[0m - \n",
            "backbone.stages.2.blocks.5.ffn.layers.0.0.weight - torch.Size([3072, 768]): \n",
            "Initialized by user-defined `init_weights` in SwinTransformer  \n",
            " \n",
            "10/10 15:52:48 - mmengine - \u001b[4m\u001b[97mINFO\u001b[0m - \n",
            "backbone.stages.2.blocks.5.ffn.layers.0.0.bias - torch.Size([3072]): \n",
            "Initialized by user-defined `init_weights` in SwinTransformer  \n",
            " \n",
            "10/10 15:52:48 - mmengine - \u001b[4m\u001b[97mINFO\u001b[0m - \n",
            "backbone.stages.2.blocks.5.ffn.layers.1.weight - torch.Size([768, 3072]): \n",
            "Initialized by user-defined `init_weights` in SwinTransformer  \n",
            " \n",
            "10/10 15:52:48 - mmengine - \u001b[4m\u001b[97mINFO\u001b[0m - \n",
            "backbone.stages.2.blocks.5.ffn.layers.1.bias - torch.Size([768]): \n",
            "Initialized by user-defined `init_weights` in SwinTransformer  \n",
            " \n",
            "10/10 15:52:48 - mmengine - \u001b[4m\u001b[97mINFO\u001b[0m - \n",
            "backbone.stages.2.blocks.6.norm1.weight - torch.Size([768]): \n",
            "Initialized by user-defined `init_weights` in SwinTransformer  \n",
            " \n",
            "10/10 15:52:48 - mmengine - \u001b[4m\u001b[97mINFO\u001b[0m - \n",
            "backbone.stages.2.blocks.6.norm1.bias - torch.Size([768]): \n",
            "Initialized by user-defined `init_weights` in SwinTransformer  \n",
            " \n",
            "10/10 15:52:48 - mmengine - \u001b[4m\u001b[97mINFO\u001b[0m - \n",
            "backbone.stages.2.blocks.6.attn.w_msa.relative_position_bias_table - torch.Size([529, 24]): \n",
            "Initialized by user-defined `init_weights` in SwinTransformer  \n",
            " \n",
            "10/10 15:52:48 - mmengine - \u001b[4m\u001b[97mINFO\u001b[0m - \n",
            "backbone.stages.2.blocks.6.attn.w_msa.qkv.weight - torch.Size([2304, 768]): \n",
            "Initialized by user-defined `init_weights` in SwinTransformer  \n",
            " \n",
            "10/10 15:52:48 - mmengine - \u001b[4m\u001b[97mINFO\u001b[0m - \n",
            "backbone.stages.2.blocks.6.attn.w_msa.qkv.bias - torch.Size([2304]): \n",
            "Initialized by user-defined `init_weights` in SwinTransformer  \n",
            " \n",
            "10/10 15:52:48 - mmengine - \u001b[4m\u001b[97mINFO\u001b[0m - \n",
            "backbone.stages.2.blocks.6.attn.w_msa.proj.weight - torch.Size([768, 768]): \n",
            "Initialized by user-defined `init_weights` in SwinTransformer  \n",
            " \n",
            "10/10 15:52:48 - mmengine - \u001b[4m\u001b[97mINFO\u001b[0m - \n",
            "backbone.stages.2.blocks.6.attn.w_msa.proj.bias - torch.Size([768]): \n",
            "Initialized by user-defined `init_weights` in SwinTransformer  \n",
            " \n",
            "10/10 15:52:48 - mmengine - \u001b[4m\u001b[97mINFO\u001b[0m - \n",
            "backbone.stages.2.blocks.6.norm2.weight - torch.Size([768]): \n",
            "Initialized by user-defined `init_weights` in SwinTransformer  \n",
            " \n",
            "10/10 15:52:48 - mmengine - \u001b[4m\u001b[97mINFO\u001b[0m - \n",
            "backbone.stages.2.blocks.6.norm2.bias - torch.Size([768]): \n",
            "Initialized by user-defined `init_weights` in SwinTransformer  \n",
            " \n",
            "10/10 15:52:48 - mmengine - \u001b[4m\u001b[97mINFO\u001b[0m - \n",
            "backbone.stages.2.blocks.6.ffn.layers.0.0.weight - torch.Size([3072, 768]): \n",
            "Initialized by user-defined `init_weights` in SwinTransformer  \n",
            " \n",
            "10/10 15:52:48 - mmengine - \u001b[4m\u001b[97mINFO\u001b[0m - \n",
            "backbone.stages.2.blocks.6.ffn.layers.0.0.bias - torch.Size([3072]): \n",
            "Initialized by user-defined `init_weights` in SwinTransformer  \n",
            " \n",
            "10/10 15:52:48 - mmengine - \u001b[4m\u001b[97mINFO\u001b[0m - \n",
            "backbone.stages.2.blocks.6.ffn.layers.1.weight - torch.Size([768, 3072]): \n",
            "Initialized by user-defined `init_weights` in SwinTransformer  \n",
            " \n",
            "10/10 15:52:48 - mmengine - \u001b[4m\u001b[97mINFO\u001b[0m - \n",
            "backbone.stages.2.blocks.6.ffn.layers.1.bias - torch.Size([768]): \n",
            "Initialized by user-defined `init_weights` in SwinTransformer  \n",
            " \n",
            "10/10 15:52:48 - mmengine - \u001b[4m\u001b[97mINFO\u001b[0m - \n",
            "backbone.stages.2.blocks.7.norm1.weight - torch.Size([768]): \n",
            "Initialized by user-defined `init_weights` in SwinTransformer  \n",
            " \n",
            "10/10 15:52:48 - mmengine - \u001b[4m\u001b[97mINFO\u001b[0m - \n",
            "backbone.stages.2.blocks.7.norm1.bias - torch.Size([768]): \n",
            "Initialized by user-defined `init_weights` in SwinTransformer  \n",
            " \n",
            "10/10 15:52:48 - mmengine - \u001b[4m\u001b[97mINFO\u001b[0m - \n",
            "backbone.stages.2.blocks.7.attn.w_msa.relative_position_bias_table - torch.Size([529, 24]): \n",
            "Initialized by user-defined `init_weights` in SwinTransformer  \n",
            " \n",
            "10/10 15:52:48 - mmengine - \u001b[4m\u001b[97mINFO\u001b[0m - \n",
            "backbone.stages.2.blocks.7.attn.w_msa.qkv.weight - torch.Size([2304, 768]): \n",
            "Initialized by user-defined `init_weights` in SwinTransformer  \n",
            " \n",
            "10/10 15:52:48 - mmengine - \u001b[4m\u001b[97mINFO\u001b[0m - \n",
            "backbone.stages.2.blocks.7.attn.w_msa.qkv.bias - torch.Size([2304]): \n",
            "Initialized by user-defined `init_weights` in SwinTransformer  \n",
            " \n",
            "10/10 15:52:48 - mmengine - \u001b[4m\u001b[97mINFO\u001b[0m - \n",
            "backbone.stages.2.blocks.7.attn.w_msa.proj.weight - torch.Size([768, 768]): \n",
            "Initialized by user-defined `init_weights` in SwinTransformer  \n",
            " \n",
            "10/10 15:52:48 - mmengine - \u001b[4m\u001b[97mINFO\u001b[0m - \n",
            "backbone.stages.2.blocks.7.attn.w_msa.proj.bias - torch.Size([768]): \n",
            "Initialized by user-defined `init_weights` in SwinTransformer  \n",
            " \n",
            "10/10 15:52:48 - mmengine - \u001b[4m\u001b[97mINFO\u001b[0m - \n",
            "backbone.stages.2.blocks.7.norm2.weight - torch.Size([768]): \n",
            "Initialized by user-defined `init_weights` in SwinTransformer  \n",
            " \n",
            "10/10 15:52:48 - mmengine - \u001b[4m\u001b[97mINFO\u001b[0m - \n",
            "backbone.stages.2.blocks.7.norm2.bias - torch.Size([768]): \n",
            "Initialized by user-defined `init_weights` in SwinTransformer  \n",
            " \n",
            "10/10 15:52:48 - mmengine - \u001b[4m\u001b[97mINFO\u001b[0m - \n",
            "backbone.stages.2.blocks.7.ffn.layers.0.0.weight - torch.Size([3072, 768]): \n",
            "Initialized by user-defined `init_weights` in SwinTransformer  \n",
            " \n",
            "10/10 15:52:48 - mmengine - \u001b[4m\u001b[97mINFO\u001b[0m - \n",
            "backbone.stages.2.blocks.7.ffn.layers.0.0.bias - torch.Size([3072]): \n",
            "Initialized by user-defined `init_weights` in SwinTransformer  \n",
            " \n",
            "10/10 15:52:48 - mmengine - \u001b[4m\u001b[97mINFO\u001b[0m - \n",
            "backbone.stages.2.blocks.7.ffn.layers.1.weight - torch.Size([768, 3072]): \n",
            "Initialized by user-defined `init_weights` in SwinTransformer  \n",
            " \n",
            "10/10 15:52:48 - mmengine - \u001b[4m\u001b[97mINFO\u001b[0m - \n",
            "backbone.stages.2.blocks.7.ffn.layers.1.bias - torch.Size([768]): \n",
            "Initialized by user-defined `init_weights` in SwinTransformer  \n",
            " \n",
            "10/10 15:52:48 - mmengine - \u001b[4m\u001b[97mINFO\u001b[0m - \n",
            "backbone.stages.2.blocks.8.norm1.weight - torch.Size([768]): \n",
            "Initialized by user-defined `init_weights` in SwinTransformer  \n",
            " \n",
            "10/10 15:52:48 - mmengine - \u001b[4m\u001b[97mINFO\u001b[0m - \n",
            "backbone.stages.2.blocks.8.norm1.bias - torch.Size([768]): \n",
            "Initialized by user-defined `init_weights` in SwinTransformer  \n",
            " \n",
            "10/10 15:52:48 - mmengine - \u001b[4m\u001b[97mINFO\u001b[0m - \n",
            "backbone.stages.2.blocks.8.attn.w_msa.relative_position_bias_table - torch.Size([529, 24]): \n",
            "Initialized by user-defined `init_weights` in SwinTransformer  \n",
            " \n",
            "10/10 15:52:48 - mmengine - \u001b[4m\u001b[97mINFO\u001b[0m - \n",
            "backbone.stages.2.blocks.8.attn.w_msa.qkv.weight - torch.Size([2304, 768]): \n",
            "Initialized by user-defined `init_weights` in SwinTransformer  \n",
            " \n",
            "10/10 15:52:48 - mmengine - \u001b[4m\u001b[97mINFO\u001b[0m - \n",
            "backbone.stages.2.blocks.8.attn.w_msa.qkv.bias - torch.Size([2304]): \n",
            "Initialized by user-defined `init_weights` in SwinTransformer  \n",
            " \n",
            "10/10 15:52:48 - mmengine - \u001b[4m\u001b[97mINFO\u001b[0m - \n",
            "backbone.stages.2.blocks.8.attn.w_msa.proj.weight - torch.Size([768, 768]): \n",
            "Initialized by user-defined `init_weights` in SwinTransformer  \n",
            " \n",
            "10/10 15:52:48 - mmengine - \u001b[4m\u001b[97mINFO\u001b[0m - \n",
            "backbone.stages.2.blocks.8.attn.w_msa.proj.bias - torch.Size([768]): \n",
            "Initialized by user-defined `init_weights` in SwinTransformer  \n",
            " \n",
            "10/10 15:52:48 - mmengine - \u001b[4m\u001b[97mINFO\u001b[0m - \n",
            "backbone.stages.2.blocks.8.norm2.weight - torch.Size([768]): \n",
            "Initialized by user-defined `init_weights` in SwinTransformer  \n",
            " \n",
            "10/10 15:52:48 - mmengine - \u001b[4m\u001b[97mINFO\u001b[0m - \n",
            "backbone.stages.2.blocks.8.norm2.bias - torch.Size([768]): \n",
            "Initialized by user-defined `init_weights` in SwinTransformer  \n",
            " \n",
            "10/10 15:52:48 - mmengine - \u001b[4m\u001b[97mINFO\u001b[0m - \n",
            "backbone.stages.2.blocks.8.ffn.layers.0.0.weight - torch.Size([3072, 768]): \n",
            "Initialized by user-defined `init_weights` in SwinTransformer  \n",
            " \n",
            "10/10 15:52:48 - mmengine - \u001b[4m\u001b[97mINFO\u001b[0m - \n",
            "backbone.stages.2.blocks.8.ffn.layers.0.0.bias - torch.Size([3072]): \n",
            "Initialized by user-defined `init_weights` in SwinTransformer  \n",
            " \n",
            "10/10 15:52:48 - mmengine - \u001b[4m\u001b[97mINFO\u001b[0m - \n",
            "backbone.stages.2.blocks.8.ffn.layers.1.weight - torch.Size([768, 3072]): \n",
            "Initialized by user-defined `init_weights` in SwinTransformer  \n",
            " \n",
            "10/10 15:52:48 - mmengine - \u001b[4m\u001b[97mINFO\u001b[0m - \n",
            "backbone.stages.2.blocks.8.ffn.layers.1.bias - torch.Size([768]): \n",
            "Initialized by user-defined `init_weights` in SwinTransformer  \n",
            " \n",
            "10/10 15:52:48 - mmengine - \u001b[4m\u001b[97mINFO\u001b[0m - \n",
            "backbone.stages.2.blocks.9.norm1.weight - torch.Size([768]): \n",
            "Initialized by user-defined `init_weights` in SwinTransformer  \n",
            " \n",
            "10/10 15:52:48 - mmengine - \u001b[4m\u001b[97mINFO\u001b[0m - \n",
            "backbone.stages.2.blocks.9.norm1.bias - torch.Size([768]): \n",
            "Initialized by user-defined `init_weights` in SwinTransformer  \n",
            " \n",
            "10/10 15:52:48 - mmengine - \u001b[4m\u001b[97mINFO\u001b[0m - \n",
            "backbone.stages.2.blocks.9.attn.w_msa.relative_position_bias_table - torch.Size([529, 24]): \n",
            "Initialized by user-defined `init_weights` in SwinTransformer  \n",
            " \n",
            "10/10 15:52:48 - mmengine - \u001b[4m\u001b[97mINFO\u001b[0m - \n",
            "backbone.stages.2.blocks.9.attn.w_msa.qkv.weight - torch.Size([2304, 768]): \n",
            "Initialized by user-defined `init_weights` in SwinTransformer  \n",
            " \n",
            "10/10 15:52:48 - mmengine - \u001b[4m\u001b[97mINFO\u001b[0m - \n",
            "backbone.stages.2.blocks.9.attn.w_msa.qkv.bias - torch.Size([2304]): \n",
            "Initialized by user-defined `init_weights` in SwinTransformer  \n",
            " \n",
            "10/10 15:52:48 - mmengine - \u001b[4m\u001b[97mINFO\u001b[0m - \n",
            "backbone.stages.2.blocks.9.attn.w_msa.proj.weight - torch.Size([768, 768]): \n",
            "Initialized by user-defined `init_weights` in SwinTransformer  \n",
            " \n",
            "10/10 15:52:48 - mmengine - \u001b[4m\u001b[97mINFO\u001b[0m - \n",
            "backbone.stages.2.blocks.9.attn.w_msa.proj.bias - torch.Size([768]): \n",
            "Initialized by user-defined `init_weights` in SwinTransformer  \n",
            " \n",
            "10/10 15:52:48 - mmengine - \u001b[4m\u001b[97mINFO\u001b[0m - \n",
            "backbone.stages.2.blocks.9.norm2.weight - torch.Size([768]): \n",
            "Initialized by user-defined `init_weights` in SwinTransformer  \n",
            " \n",
            "10/10 15:52:48 - mmengine - \u001b[4m\u001b[97mINFO\u001b[0m - \n",
            "backbone.stages.2.blocks.9.norm2.bias - torch.Size([768]): \n",
            "Initialized by user-defined `init_weights` in SwinTransformer  \n",
            " \n",
            "10/10 15:52:48 - mmengine - \u001b[4m\u001b[97mINFO\u001b[0m - \n",
            "backbone.stages.2.blocks.9.ffn.layers.0.0.weight - torch.Size([3072, 768]): \n",
            "Initialized by user-defined `init_weights` in SwinTransformer  \n",
            " \n",
            "10/10 15:52:48 - mmengine - \u001b[4m\u001b[97mINFO\u001b[0m - \n",
            "backbone.stages.2.blocks.9.ffn.layers.0.0.bias - torch.Size([3072]): \n",
            "Initialized by user-defined `init_weights` in SwinTransformer  \n",
            " \n",
            "10/10 15:52:48 - mmengine - \u001b[4m\u001b[97mINFO\u001b[0m - \n",
            "backbone.stages.2.blocks.9.ffn.layers.1.weight - torch.Size([768, 3072]): \n",
            "Initialized by user-defined `init_weights` in SwinTransformer  \n",
            " \n",
            "10/10 15:52:48 - mmengine - \u001b[4m\u001b[97mINFO\u001b[0m - \n",
            "backbone.stages.2.blocks.9.ffn.layers.1.bias - torch.Size([768]): \n",
            "Initialized by user-defined `init_weights` in SwinTransformer  \n",
            " \n",
            "10/10 15:52:48 - mmengine - \u001b[4m\u001b[97mINFO\u001b[0m - \n",
            "backbone.stages.2.blocks.10.norm1.weight - torch.Size([768]): \n",
            "Initialized by user-defined `init_weights` in SwinTransformer  \n",
            " \n",
            "10/10 15:52:48 - mmengine - \u001b[4m\u001b[97mINFO\u001b[0m - \n",
            "backbone.stages.2.blocks.10.norm1.bias - torch.Size([768]): \n",
            "Initialized by user-defined `init_weights` in SwinTransformer  \n",
            " \n",
            "10/10 15:52:48 - mmengine - \u001b[4m\u001b[97mINFO\u001b[0m - \n",
            "backbone.stages.2.blocks.10.attn.w_msa.relative_position_bias_table - torch.Size([529, 24]): \n",
            "Initialized by user-defined `init_weights` in SwinTransformer  \n",
            " \n",
            "10/10 15:52:48 - mmengine - \u001b[4m\u001b[97mINFO\u001b[0m - \n",
            "backbone.stages.2.blocks.10.attn.w_msa.qkv.weight - torch.Size([2304, 768]): \n",
            "Initialized by user-defined `init_weights` in SwinTransformer  \n",
            " \n",
            "10/10 15:52:48 - mmengine - \u001b[4m\u001b[97mINFO\u001b[0m - \n",
            "backbone.stages.2.blocks.10.attn.w_msa.qkv.bias - torch.Size([2304]): \n",
            "Initialized by user-defined `init_weights` in SwinTransformer  \n",
            " \n",
            "10/10 15:52:48 - mmengine - \u001b[4m\u001b[97mINFO\u001b[0m - \n",
            "backbone.stages.2.blocks.10.attn.w_msa.proj.weight - torch.Size([768, 768]): \n",
            "Initialized by user-defined `init_weights` in SwinTransformer  \n",
            " \n",
            "10/10 15:52:48 - mmengine - \u001b[4m\u001b[97mINFO\u001b[0m - \n",
            "backbone.stages.2.blocks.10.attn.w_msa.proj.bias - torch.Size([768]): \n",
            "Initialized by user-defined `init_weights` in SwinTransformer  \n",
            " \n",
            "10/10 15:52:48 - mmengine - \u001b[4m\u001b[97mINFO\u001b[0m - \n",
            "backbone.stages.2.blocks.10.norm2.weight - torch.Size([768]): \n",
            "Initialized by user-defined `init_weights` in SwinTransformer  \n",
            " \n",
            "10/10 15:52:48 - mmengine - \u001b[4m\u001b[97mINFO\u001b[0m - \n",
            "backbone.stages.2.blocks.10.norm2.bias - torch.Size([768]): \n",
            "Initialized by user-defined `init_weights` in SwinTransformer  \n",
            " \n",
            "10/10 15:52:48 - mmengine - \u001b[4m\u001b[97mINFO\u001b[0m - \n",
            "backbone.stages.2.blocks.10.ffn.layers.0.0.weight - torch.Size([3072, 768]): \n",
            "Initialized by user-defined `init_weights` in SwinTransformer  \n",
            " \n",
            "10/10 15:52:48 - mmengine - \u001b[4m\u001b[97mINFO\u001b[0m - \n",
            "backbone.stages.2.blocks.10.ffn.layers.0.0.bias - torch.Size([3072]): \n",
            "Initialized by user-defined `init_weights` in SwinTransformer  \n",
            " \n",
            "10/10 15:52:48 - mmengine - \u001b[4m\u001b[97mINFO\u001b[0m - \n",
            "backbone.stages.2.blocks.10.ffn.layers.1.weight - torch.Size([768, 3072]): \n",
            "Initialized by user-defined `init_weights` in SwinTransformer  \n",
            " \n",
            "10/10 15:52:48 - mmengine - \u001b[4m\u001b[97mINFO\u001b[0m - \n",
            "backbone.stages.2.blocks.10.ffn.layers.1.bias - torch.Size([768]): \n",
            "Initialized by user-defined `init_weights` in SwinTransformer  \n",
            " \n",
            "10/10 15:52:48 - mmengine - \u001b[4m\u001b[97mINFO\u001b[0m - \n",
            "backbone.stages.2.blocks.11.norm1.weight - torch.Size([768]): \n",
            "Initialized by user-defined `init_weights` in SwinTransformer  \n",
            " \n",
            "10/10 15:52:48 - mmengine - \u001b[4m\u001b[97mINFO\u001b[0m - \n",
            "backbone.stages.2.blocks.11.norm1.bias - torch.Size([768]): \n",
            "Initialized by user-defined `init_weights` in SwinTransformer  \n",
            " \n",
            "10/10 15:52:48 - mmengine - \u001b[4m\u001b[97mINFO\u001b[0m - \n",
            "backbone.stages.2.blocks.11.attn.w_msa.relative_position_bias_table - torch.Size([529, 24]): \n",
            "Initialized by user-defined `init_weights` in SwinTransformer  \n",
            " \n",
            "10/10 15:52:48 - mmengine - \u001b[4m\u001b[97mINFO\u001b[0m - \n",
            "backbone.stages.2.blocks.11.attn.w_msa.qkv.weight - torch.Size([2304, 768]): \n",
            "Initialized by user-defined `init_weights` in SwinTransformer  \n",
            " \n",
            "10/10 15:52:48 - mmengine - \u001b[4m\u001b[97mINFO\u001b[0m - \n",
            "backbone.stages.2.blocks.11.attn.w_msa.qkv.bias - torch.Size([2304]): \n",
            "Initialized by user-defined `init_weights` in SwinTransformer  \n",
            " \n",
            "10/10 15:52:48 - mmengine - \u001b[4m\u001b[97mINFO\u001b[0m - \n",
            "backbone.stages.2.blocks.11.attn.w_msa.proj.weight - torch.Size([768, 768]): \n",
            "Initialized by user-defined `init_weights` in SwinTransformer  \n",
            " \n",
            "10/10 15:52:48 - mmengine - \u001b[4m\u001b[97mINFO\u001b[0m - \n",
            "backbone.stages.2.blocks.11.attn.w_msa.proj.bias - torch.Size([768]): \n",
            "Initialized by user-defined `init_weights` in SwinTransformer  \n",
            " \n",
            "10/10 15:52:48 - mmengine - \u001b[4m\u001b[97mINFO\u001b[0m - \n",
            "backbone.stages.2.blocks.11.norm2.weight - torch.Size([768]): \n",
            "Initialized by user-defined `init_weights` in SwinTransformer  \n",
            " \n",
            "10/10 15:52:48 - mmengine - \u001b[4m\u001b[97mINFO\u001b[0m - \n",
            "backbone.stages.2.blocks.11.norm2.bias - torch.Size([768]): \n",
            "Initialized by user-defined `init_weights` in SwinTransformer  \n",
            " \n",
            "10/10 15:52:48 - mmengine - \u001b[4m\u001b[97mINFO\u001b[0m - \n",
            "backbone.stages.2.blocks.11.ffn.layers.0.0.weight - torch.Size([3072, 768]): \n",
            "Initialized by user-defined `init_weights` in SwinTransformer  \n",
            " \n",
            "10/10 15:52:48 - mmengine - \u001b[4m\u001b[97mINFO\u001b[0m - \n",
            "backbone.stages.2.blocks.11.ffn.layers.0.0.bias - torch.Size([3072]): \n",
            "Initialized by user-defined `init_weights` in SwinTransformer  \n",
            " \n",
            "10/10 15:52:48 - mmengine - \u001b[4m\u001b[97mINFO\u001b[0m - \n",
            "backbone.stages.2.blocks.11.ffn.layers.1.weight - torch.Size([768, 3072]): \n",
            "Initialized by user-defined `init_weights` in SwinTransformer  \n",
            " \n",
            "10/10 15:52:48 - mmengine - \u001b[4m\u001b[97mINFO\u001b[0m - \n",
            "backbone.stages.2.blocks.11.ffn.layers.1.bias - torch.Size([768]): \n",
            "Initialized by user-defined `init_weights` in SwinTransformer  \n",
            " \n",
            "10/10 15:52:48 - mmengine - \u001b[4m\u001b[97mINFO\u001b[0m - \n",
            "backbone.stages.2.blocks.12.norm1.weight - torch.Size([768]): \n",
            "Initialized by user-defined `init_weights` in SwinTransformer  \n",
            " \n",
            "10/10 15:52:48 - mmengine - \u001b[4m\u001b[97mINFO\u001b[0m - \n",
            "backbone.stages.2.blocks.12.norm1.bias - torch.Size([768]): \n",
            "Initialized by user-defined `init_weights` in SwinTransformer  \n",
            " \n",
            "10/10 15:52:48 - mmengine - \u001b[4m\u001b[97mINFO\u001b[0m - \n",
            "backbone.stages.2.blocks.12.attn.w_msa.relative_position_bias_table - torch.Size([529, 24]): \n",
            "Initialized by user-defined `init_weights` in SwinTransformer  \n",
            " \n",
            "10/10 15:52:48 - mmengine - \u001b[4m\u001b[97mINFO\u001b[0m - \n",
            "backbone.stages.2.blocks.12.attn.w_msa.qkv.weight - torch.Size([2304, 768]): \n",
            "Initialized by user-defined `init_weights` in SwinTransformer  \n",
            " \n",
            "10/10 15:52:48 - mmengine - \u001b[4m\u001b[97mINFO\u001b[0m - \n",
            "backbone.stages.2.blocks.12.attn.w_msa.qkv.bias - torch.Size([2304]): \n",
            "Initialized by user-defined `init_weights` in SwinTransformer  \n",
            " \n",
            "10/10 15:52:48 - mmengine - \u001b[4m\u001b[97mINFO\u001b[0m - \n",
            "backbone.stages.2.blocks.12.attn.w_msa.proj.weight - torch.Size([768, 768]): \n",
            "Initialized by user-defined `init_weights` in SwinTransformer  \n",
            " \n",
            "10/10 15:52:48 - mmengine - \u001b[4m\u001b[97mINFO\u001b[0m - \n",
            "backbone.stages.2.blocks.12.attn.w_msa.proj.bias - torch.Size([768]): \n",
            "Initialized by user-defined `init_weights` in SwinTransformer  \n",
            " \n",
            "10/10 15:52:48 - mmengine - \u001b[4m\u001b[97mINFO\u001b[0m - \n",
            "backbone.stages.2.blocks.12.norm2.weight - torch.Size([768]): \n",
            "Initialized by user-defined `init_weights` in SwinTransformer  \n",
            " \n",
            "10/10 15:52:48 - mmengine - \u001b[4m\u001b[97mINFO\u001b[0m - \n",
            "backbone.stages.2.blocks.12.norm2.bias - torch.Size([768]): \n",
            "Initialized by user-defined `init_weights` in SwinTransformer  \n",
            " \n",
            "10/10 15:52:48 - mmengine - \u001b[4m\u001b[97mINFO\u001b[0m - \n",
            "backbone.stages.2.blocks.12.ffn.layers.0.0.weight - torch.Size([3072, 768]): \n",
            "Initialized by user-defined `init_weights` in SwinTransformer  \n",
            " \n",
            "10/10 15:52:48 - mmengine - \u001b[4m\u001b[97mINFO\u001b[0m - \n",
            "backbone.stages.2.blocks.12.ffn.layers.0.0.bias - torch.Size([3072]): \n",
            "Initialized by user-defined `init_weights` in SwinTransformer  \n",
            " \n",
            "10/10 15:52:48 - mmengine - \u001b[4m\u001b[97mINFO\u001b[0m - \n",
            "backbone.stages.2.blocks.12.ffn.layers.1.weight - torch.Size([768, 3072]): \n",
            "Initialized by user-defined `init_weights` in SwinTransformer  \n",
            " \n",
            "10/10 15:52:48 - mmengine - \u001b[4m\u001b[97mINFO\u001b[0m - \n",
            "backbone.stages.2.blocks.12.ffn.layers.1.bias - torch.Size([768]): \n",
            "Initialized by user-defined `init_weights` in SwinTransformer  \n",
            " \n",
            "10/10 15:52:48 - mmengine - \u001b[4m\u001b[97mINFO\u001b[0m - \n",
            "backbone.stages.2.blocks.13.norm1.weight - torch.Size([768]): \n",
            "Initialized by user-defined `init_weights` in SwinTransformer  \n",
            " \n",
            "10/10 15:52:48 - mmengine - \u001b[4m\u001b[97mINFO\u001b[0m - \n",
            "backbone.stages.2.blocks.13.norm1.bias - torch.Size([768]): \n",
            "Initialized by user-defined `init_weights` in SwinTransformer  \n",
            " \n",
            "10/10 15:52:48 - mmengine - \u001b[4m\u001b[97mINFO\u001b[0m - \n",
            "backbone.stages.2.blocks.13.attn.w_msa.relative_position_bias_table - torch.Size([529, 24]): \n",
            "Initialized by user-defined `init_weights` in SwinTransformer  \n",
            " \n",
            "10/10 15:52:48 - mmengine - \u001b[4m\u001b[97mINFO\u001b[0m - \n",
            "backbone.stages.2.blocks.13.attn.w_msa.qkv.weight - torch.Size([2304, 768]): \n",
            "Initialized by user-defined `init_weights` in SwinTransformer  \n",
            " \n",
            "10/10 15:52:48 - mmengine - \u001b[4m\u001b[97mINFO\u001b[0m - \n",
            "backbone.stages.2.blocks.13.attn.w_msa.qkv.bias - torch.Size([2304]): \n",
            "Initialized by user-defined `init_weights` in SwinTransformer  \n",
            " \n",
            "10/10 15:52:48 - mmengine - \u001b[4m\u001b[97mINFO\u001b[0m - \n",
            "backbone.stages.2.blocks.13.attn.w_msa.proj.weight - torch.Size([768, 768]): \n",
            "Initialized by user-defined `init_weights` in SwinTransformer  \n",
            " \n",
            "10/10 15:52:48 - mmengine - \u001b[4m\u001b[97mINFO\u001b[0m - \n",
            "backbone.stages.2.blocks.13.attn.w_msa.proj.bias - torch.Size([768]): \n",
            "Initialized by user-defined `init_weights` in SwinTransformer  \n",
            " \n",
            "10/10 15:52:48 - mmengine - \u001b[4m\u001b[97mINFO\u001b[0m - \n",
            "backbone.stages.2.blocks.13.norm2.weight - torch.Size([768]): \n",
            "Initialized by user-defined `init_weights` in SwinTransformer  \n",
            " \n",
            "10/10 15:52:48 - mmengine - \u001b[4m\u001b[97mINFO\u001b[0m - \n",
            "backbone.stages.2.blocks.13.norm2.bias - torch.Size([768]): \n",
            "Initialized by user-defined `init_weights` in SwinTransformer  \n",
            " \n",
            "10/10 15:52:48 - mmengine - \u001b[4m\u001b[97mINFO\u001b[0m - \n",
            "backbone.stages.2.blocks.13.ffn.layers.0.0.weight - torch.Size([3072, 768]): \n",
            "Initialized by user-defined `init_weights` in SwinTransformer  \n",
            " \n",
            "10/10 15:52:48 - mmengine - \u001b[4m\u001b[97mINFO\u001b[0m - \n",
            "backbone.stages.2.blocks.13.ffn.layers.0.0.bias - torch.Size([3072]): \n",
            "Initialized by user-defined `init_weights` in SwinTransformer  \n",
            " \n",
            "10/10 15:52:48 - mmengine - \u001b[4m\u001b[97mINFO\u001b[0m - \n",
            "backbone.stages.2.blocks.13.ffn.layers.1.weight - torch.Size([768, 3072]): \n",
            "Initialized by user-defined `init_weights` in SwinTransformer  \n",
            " \n",
            "10/10 15:52:48 - mmengine - \u001b[4m\u001b[97mINFO\u001b[0m - \n",
            "backbone.stages.2.blocks.13.ffn.layers.1.bias - torch.Size([768]): \n",
            "Initialized by user-defined `init_weights` in SwinTransformer  \n",
            " \n",
            "10/10 15:52:48 - mmengine - \u001b[4m\u001b[97mINFO\u001b[0m - \n",
            "backbone.stages.2.blocks.14.norm1.weight - torch.Size([768]): \n",
            "Initialized by user-defined `init_weights` in SwinTransformer  \n",
            " \n",
            "10/10 15:52:48 - mmengine - \u001b[4m\u001b[97mINFO\u001b[0m - \n",
            "backbone.stages.2.blocks.14.norm1.bias - torch.Size([768]): \n",
            "Initialized by user-defined `init_weights` in SwinTransformer  \n",
            " \n",
            "10/10 15:52:48 - mmengine - \u001b[4m\u001b[97mINFO\u001b[0m - \n",
            "backbone.stages.2.blocks.14.attn.w_msa.relative_position_bias_table - torch.Size([529, 24]): \n",
            "Initialized by user-defined `init_weights` in SwinTransformer  \n",
            " \n",
            "10/10 15:52:48 - mmengine - \u001b[4m\u001b[97mINFO\u001b[0m - \n",
            "backbone.stages.2.blocks.14.attn.w_msa.qkv.weight - torch.Size([2304, 768]): \n",
            "Initialized by user-defined `init_weights` in SwinTransformer  \n",
            " \n",
            "10/10 15:52:48 - mmengine - \u001b[4m\u001b[97mINFO\u001b[0m - \n",
            "backbone.stages.2.blocks.14.attn.w_msa.qkv.bias - torch.Size([2304]): \n",
            "Initialized by user-defined `init_weights` in SwinTransformer  \n",
            " \n",
            "10/10 15:52:48 - mmengine - \u001b[4m\u001b[97mINFO\u001b[0m - \n",
            "backbone.stages.2.blocks.14.attn.w_msa.proj.weight - torch.Size([768, 768]): \n",
            "Initialized by user-defined `init_weights` in SwinTransformer  \n",
            " \n",
            "10/10 15:52:48 - mmengine - \u001b[4m\u001b[97mINFO\u001b[0m - \n",
            "backbone.stages.2.blocks.14.attn.w_msa.proj.bias - torch.Size([768]): \n",
            "Initialized by user-defined `init_weights` in SwinTransformer  \n",
            " \n",
            "10/10 15:52:48 - mmengine - \u001b[4m\u001b[97mINFO\u001b[0m - \n",
            "backbone.stages.2.blocks.14.norm2.weight - torch.Size([768]): \n",
            "Initialized by user-defined `init_weights` in SwinTransformer  \n",
            " \n",
            "10/10 15:52:48 - mmengine - \u001b[4m\u001b[97mINFO\u001b[0m - \n",
            "backbone.stages.2.blocks.14.norm2.bias - torch.Size([768]): \n",
            "Initialized by user-defined `init_weights` in SwinTransformer  \n",
            " \n",
            "10/10 15:52:48 - mmengine - \u001b[4m\u001b[97mINFO\u001b[0m - \n",
            "backbone.stages.2.blocks.14.ffn.layers.0.0.weight - torch.Size([3072, 768]): \n",
            "Initialized by user-defined `init_weights` in SwinTransformer  \n",
            " \n",
            "10/10 15:52:48 - mmengine - \u001b[4m\u001b[97mINFO\u001b[0m - \n",
            "backbone.stages.2.blocks.14.ffn.layers.0.0.bias - torch.Size([3072]): \n",
            "Initialized by user-defined `init_weights` in SwinTransformer  \n",
            " \n",
            "10/10 15:52:48 - mmengine - \u001b[4m\u001b[97mINFO\u001b[0m - \n",
            "backbone.stages.2.blocks.14.ffn.layers.1.weight - torch.Size([768, 3072]): \n",
            "Initialized by user-defined `init_weights` in SwinTransformer  \n",
            " \n",
            "10/10 15:52:48 - mmengine - \u001b[4m\u001b[97mINFO\u001b[0m - \n",
            "backbone.stages.2.blocks.14.ffn.layers.1.bias - torch.Size([768]): \n",
            "Initialized by user-defined `init_weights` in SwinTransformer  \n",
            " \n",
            "10/10 15:52:48 - mmengine - \u001b[4m\u001b[97mINFO\u001b[0m - \n",
            "backbone.stages.2.blocks.15.norm1.weight - torch.Size([768]): \n",
            "Initialized by user-defined `init_weights` in SwinTransformer  \n",
            " \n",
            "10/10 15:52:48 - mmengine - \u001b[4m\u001b[97mINFO\u001b[0m - \n",
            "backbone.stages.2.blocks.15.norm1.bias - torch.Size([768]): \n",
            "Initialized by user-defined `init_weights` in SwinTransformer  \n",
            " \n",
            "10/10 15:52:48 - mmengine - \u001b[4m\u001b[97mINFO\u001b[0m - \n",
            "backbone.stages.2.blocks.15.attn.w_msa.relative_position_bias_table - torch.Size([529, 24]): \n",
            "Initialized by user-defined `init_weights` in SwinTransformer  \n",
            " \n",
            "10/10 15:52:48 - mmengine - \u001b[4m\u001b[97mINFO\u001b[0m - \n",
            "backbone.stages.2.blocks.15.attn.w_msa.qkv.weight - torch.Size([2304, 768]): \n",
            "Initialized by user-defined `init_weights` in SwinTransformer  \n",
            " \n",
            "10/10 15:52:48 - mmengine - \u001b[4m\u001b[97mINFO\u001b[0m - \n",
            "backbone.stages.2.blocks.15.attn.w_msa.qkv.bias - torch.Size([2304]): \n",
            "Initialized by user-defined `init_weights` in SwinTransformer  \n",
            " \n",
            "10/10 15:52:48 - mmengine - \u001b[4m\u001b[97mINFO\u001b[0m - \n",
            "backbone.stages.2.blocks.15.attn.w_msa.proj.weight - torch.Size([768, 768]): \n",
            "Initialized by user-defined `init_weights` in SwinTransformer  \n",
            " \n",
            "10/10 15:52:48 - mmengine - \u001b[4m\u001b[97mINFO\u001b[0m - \n",
            "backbone.stages.2.blocks.15.attn.w_msa.proj.bias - torch.Size([768]): \n",
            "Initialized by user-defined `init_weights` in SwinTransformer  \n",
            " \n",
            "10/10 15:52:48 - mmengine - \u001b[4m\u001b[97mINFO\u001b[0m - \n",
            "backbone.stages.2.blocks.15.norm2.weight - torch.Size([768]): \n",
            "Initialized by user-defined `init_weights` in SwinTransformer  \n",
            " \n",
            "10/10 15:52:48 - mmengine - \u001b[4m\u001b[97mINFO\u001b[0m - \n",
            "backbone.stages.2.blocks.15.norm2.bias - torch.Size([768]): \n",
            "Initialized by user-defined `init_weights` in SwinTransformer  \n",
            " \n",
            "10/10 15:52:48 - mmengine - \u001b[4m\u001b[97mINFO\u001b[0m - \n",
            "backbone.stages.2.blocks.15.ffn.layers.0.0.weight - torch.Size([3072, 768]): \n",
            "Initialized by user-defined `init_weights` in SwinTransformer  \n",
            " \n",
            "10/10 15:52:48 - mmengine - \u001b[4m\u001b[97mINFO\u001b[0m - \n",
            "backbone.stages.2.blocks.15.ffn.layers.0.0.bias - torch.Size([3072]): \n",
            "Initialized by user-defined `init_weights` in SwinTransformer  \n",
            " \n",
            "10/10 15:52:48 - mmengine - \u001b[4m\u001b[97mINFO\u001b[0m - \n",
            "backbone.stages.2.blocks.15.ffn.layers.1.weight - torch.Size([768, 3072]): \n",
            "Initialized by user-defined `init_weights` in SwinTransformer  \n",
            " \n",
            "10/10 15:52:48 - mmengine - \u001b[4m\u001b[97mINFO\u001b[0m - \n",
            "backbone.stages.2.blocks.15.ffn.layers.1.bias - torch.Size([768]): \n",
            "Initialized by user-defined `init_weights` in SwinTransformer  \n",
            " \n",
            "10/10 15:52:48 - mmengine - \u001b[4m\u001b[97mINFO\u001b[0m - \n",
            "backbone.stages.2.blocks.16.norm1.weight - torch.Size([768]): \n",
            "Initialized by user-defined `init_weights` in SwinTransformer  \n",
            " \n",
            "10/10 15:52:48 - mmengine - \u001b[4m\u001b[97mINFO\u001b[0m - \n",
            "backbone.stages.2.blocks.16.norm1.bias - torch.Size([768]): \n",
            "Initialized by user-defined `init_weights` in SwinTransformer  \n",
            " \n",
            "10/10 15:52:48 - mmengine - \u001b[4m\u001b[97mINFO\u001b[0m - \n",
            "backbone.stages.2.blocks.16.attn.w_msa.relative_position_bias_table - torch.Size([529, 24]): \n",
            "Initialized by user-defined `init_weights` in SwinTransformer  \n",
            " \n",
            "10/10 15:52:48 - mmengine - \u001b[4m\u001b[97mINFO\u001b[0m - \n",
            "backbone.stages.2.blocks.16.attn.w_msa.qkv.weight - torch.Size([2304, 768]): \n",
            "Initialized by user-defined `init_weights` in SwinTransformer  \n",
            " \n",
            "10/10 15:52:48 - mmengine - \u001b[4m\u001b[97mINFO\u001b[0m - \n",
            "backbone.stages.2.blocks.16.attn.w_msa.qkv.bias - torch.Size([2304]): \n",
            "Initialized by user-defined `init_weights` in SwinTransformer  \n",
            " \n",
            "10/10 15:52:48 - mmengine - \u001b[4m\u001b[97mINFO\u001b[0m - \n",
            "backbone.stages.2.blocks.16.attn.w_msa.proj.weight - torch.Size([768, 768]): \n",
            "Initialized by user-defined `init_weights` in SwinTransformer  \n",
            " \n",
            "10/10 15:52:48 - mmengine - \u001b[4m\u001b[97mINFO\u001b[0m - \n",
            "backbone.stages.2.blocks.16.attn.w_msa.proj.bias - torch.Size([768]): \n",
            "Initialized by user-defined `init_weights` in SwinTransformer  \n",
            " \n",
            "10/10 15:52:48 - mmengine - \u001b[4m\u001b[97mINFO\u001b[0m - \n",
            "backbone.stages.2.blocks.16.norm2.weight - torch.Size([768]): \n",
            "Initialized by user-defined `init_weights` in SwinTransformer  \n",
            " \n",
            "10/10 15:52:48 - mmengine - \u001b[4m\u001b[97mINFO\u001b[0m - \n",
            "backbone.stages.2.blocks.16.norm2.bias - torch.Size([768]): \n",
            "Initialized by user-defined `init_weights` in SwinTransformer  \n",
            " \n",
            "10/10 15:52:48 - mmengine - \u001b[4m\u001b[97mINFO\u001b[0m - \n",
            "backbone.stages.2.blocks.16.ffn.layers.0.0.weight - torch.Size([3072, 768]): \n",
            "Initialized by user-defined `init_weights` in SwinTransformer  \n",
            " \n",
            "10/10 15:52:48 - mmengine - \u001b[4m\u001b[97mINFO\u001b[0m - \n",
            "backbone.stages.2.blocks.16.ffn.layers.0.0.bias - torch.Size([3072]): \n",
            "Initialized by user-defined `init_weights` in SwinTransformer  \n",
            " \n",
            "10/10 15:52:48 - mmengine - \u001b[4m\u001b[97mINFO\u001b[0m - \n",
            "backbone.stages.2.blocks.16.ffn.layers.1.weight - torch.Size([768, 3072]): \n",
            "Initialized by user-defined `init_weights` in SwinTransformer  \n",
            " \n",
            "10/10 15:52:48 - mmengine - \u001b[4m\u001b[97mINFO\u001b[0m - \n",
            "backbone.stages.2.blocks.16.ffn.layers.1.bias - torch.Size([768]): \n",
            "Initialized by user-defined `init_weights` in SwinTransformer  \n",
            " \n",
            "10/10 15:52:48 - mmengine - \u001b[4m\u001b[97mINFO\u001b[0m - \n",
            "backbone.stages.2.blocks.17.norm1.weight - torch.Size([768]): \n",
            "Initialized by user-defined `init_weights` in SwinTransformer  \n",
            " \n",
            "10/10 15:52:48 - mmengine - \u001b[4m\u001b[97mINFO\u001b[0m - \n",
            "backbone.stages.2.blocks.17.norm1.bias - torch.Size([768]): \n",
            "Initialized by user-defined `init_weights` in SwinTransformer  \n",
            " \n",
            "10/10 15:52:48 - mmengine - \u001b[4m\u001b[97mINFO\u001b[0m - \n",
            "backbone.stages.2.blocks.17.attn.w_msa.relative_position_bias_table - torch.Size([529, 24]): \n",
            "Initialized by user-defined `init_weights` in SwinTransformer  \n",
            " \n",
            "10/10 15:52:48 - mmengine - \u001b[4m\u001b[97mINFO\u001b[0m - \n",
            "backbone.stages.2.blocks.17.attn.w_msa.qkv.weight - torch.Size([2304, 768]): \n",
            "Initialized by user-defined `init_weights` in SwinTransformer  \n",
            " \n",
            "10/10 15:52:48 - mmengine - \u001b[4m\u001b[97mINFO\u001b[0m - \n",
            "backbone.stages.2.blocks.17.attn.w_msa.qkv.bias - torch.Size([2304]): \n",
            "Initialized by user-defined `init_weights` in SwinTransformer  \n",
            " \n",
            "10/10 15:52:48 - mmengine - \u001b[4m\u001b[97mINFO\u001b[0m - \n",
            "backbone.stages.2.blocks.17.attn.w_msa.proj.weight - torch.Size([768, 768]): \n",
            "Initialized by user-defined `init_weights` in SwinTransformer  \n",
            " \n",
            "10/10 15:52:48 - mmengine - \u001b[4m\u001b[97mINFO\u001b[0m - \n",
            "backbone.stages.2.blocks.17.attn.w_msa.proj.bias - torch.Size([768]): \n",
            "Initialized by user-defined `init_weights` in SwinTransformer  \n",
            " \n",
            "10/10 15:52:48 - mmengine - \u001b[4m\u001b[97mINFO\u001b[0m - \n",
            "backbone.stages.2.blocks.17.norm2.weight - torch.Size([768]): \n",
            "Initialized by user-defined `init_weights` in SwinTransformer  \n",
            " \n",
            "10/10 15:52:48 - mmengine - \u001b[4m\u001b[97mINFO\u001b[0m - \n",
            "backbone.stages.2.blocks.17.norm2.bias - torch.Size([768]): \n",
            "Initialized by user-defined `init_weights` in SwinTransformer  \n",
            " \n",
            "10/10 15:52:48 - mmengine - \u001b[4m\u001b[97mINFO\u001b[0m - \n",
            "backbone.stages.2.blocks.17.ffn.layers.0.0.weight - torch.Size([3072, 768]): \n",
            "Initialized by user-defined `init_weights` in SwinTransformer  \n",
            " \n",
            "10/10 15:52:48 - mmengine - \u001b[4m\u001b[97mINFO\u001b[0m - \n",
            "backbone.stages.2.blocks.17.ffn.layers.0.0.bias - torch.Size([3072]): \n",
            "Initialized by user-defined `init_weights` in SwinTransformer  \n",
            " \n",
            "10/10 15:52:48 - mmengine - \u001b[4m\u001b[97mINFO\u001b[0m - \n",
            "backbone.stages.2.blocks.17.ffn.layers.1.weight - torch.Size([768, 3072]): \n",
            "Initialized by user-defined `init_weights` in SwinTransformer  \n",
            " \n",
            "10/10 15:52:48 - mmengine - \u001b[4m\u001b[97mINFO\u001b[0m - \n",
            "backbone.stages.2.blocks.17.ffn.layers.1.bias - torch.Size([768]): \n",
            "Initialized by user-defined `init_weights` in SwinTransformer  \n",
            " \n",
            "10/10 15:52:48 - mmengine - \u001b[4m\u001b[97mINFO\u001b[0m - \n",
            "backbone.stages.2.downsample.norm.weight - torch.Size([3072]): \n",
            "Initialized by user-defined `init_weights` in SwinTransformer  \n",
            " \n",
            "10/10 15:52:48 - mmengine - \u001b[4m\u001b[97mINFO\u001b[0m - \n",
            "backbone.stages.2.downsample.norm.bias - torch.Size([3072]): \n",
            "Initialized by user-defined `init_weights` in SwinTransformer  \n",
            " \n",
            "10/10 15:52:48 - mmengine - \u001b[4m\u001b[97mINFO\u001b[0m - \n",
            "backbone.stages.2.downsample.reduction.weight - torch.Size([1536, 3072]): \n",
            "Initialized by user-defined `init_weights` in SwinTransformer  \n",
            " \n",
            "10/10 15:52:48 - mmengine - \u001b[4m\u001b[97mINFO\u001b[0m - \n",
            "backbone.stages.3.blocks.0.norm1.weight - torch.Size([1536]): \n",
            "Initialized by user-defined `init_weights` in SwinTransformer  \n",
            " \n",
            "10/10 15:52:48 - mmengine - \u001b[4m\u001b[97mINFO\u001b[0m - \n",
            "backbone.stages.3.blocks.0.norm1.bias - torch.Size([1536]): \n",
            "Initialized by user-defined `init_weights` in SwinTransformer  \n",
            " \n",
            "10/10 15:52:48 - mmengine - \u001b[4m\u001b[97mINFO\u001b[0m - \n",
            "backbone.stages.3.blocks.0.attn.w_msa.relative_position_bias_table - torch.Size([529, 48]): \n",
            "Initialized by user-defined `init_weights` in SwinTransformer  \n",
            " \n",
            "10/10 15:52:48 - mmengine - \u001b[4m\u001b[97mINFO\u001b[0m - \n",
            "backbone.stages.3.blocks.0.attn.w_msa.qkv.weight - torch.Size([4608, 1536]): \n",
            "Initialized by user-defined `init_weights` in SwinTransformer  \n",
            " \n",
            "10/10 15:52:48 - mmengine - \u001b[4m\u001b[97mINFO\u001b[0m - \n",
            "backbone.stages.3.blocks.0.attn.w_msa.qkv.bias - torch.Size([4608]): \n",
            "Initialized by user-defined `init_weights` in SwinTransformer  \n",
            " \n",
            "10/10 15:52:48 - mmengine - \u001b[4m\u001b[97mINFO\u001b[0m - \n",
            "backbone.stages.3.blocks.0.attn.w_msa.proj.weight - torch.Size([1536, 1536]): \n",
            "Initialized by user-defined `init_weights` in SwinTransformer  \n",
            " \n",
            "10/10 15:52:48 - mmengine - \u001b[4m\u001b[97mINFO\u001b[0m - \n",
            "backbone.stages.3.blocks.0.attn.w_msa.proj.bias - torch.Size([1536]): \n",
            "Initialized by user-defined `init_weights` in SwinTransformer  \n",
            " \n",
            "10/10 15:52:48 - mmengine - \u001b[4m\u001b[97mINFO\u001b[0m - \n",
            "backbone.stages.3.blocks.0.norm2.weight - torch.Size([1536]): \n",
            "Initialized by user-defined `init_weights` in SwinTransformer  \n",
            " \n",
            "10/10 15:52:48 - mmengine - \u001b[4m\u001b[97mINFO\u001b[0m - \n",
            "backbone.stages.3.blocks.0.norm2.bias - torch.Size([1536]): \n",
            "Initialized by user-defined `init_weights` in SwinTransformer  \n",
            " \n",
            "10/10 15:52:48 - mmengine - \u001b[4m\u001b[97mINFO\u001b[0m - \n",
            "backbone.stages.3.blocks.0.ffn.layers.0.0.weight - torch.Size([6144, 1536]): \n",
            "Initialized by user-defined `init_weights` in SwinTransformer  \n",
            " \n",
            "10/10 15:52:48 - mmengine - \u001b[4m\u001b[97mINFO\u001b[0m - \n",
            "backbone.stages.3.blocks.0.ffn.layers.0.0.bias - torch.Size([6144]): \n",
            "Initialized by user-defined `init_weights` in SwinTransformer  \n",
            " \n",
            "10/10 15:52:48 - mmengine - \u001b[4m\u001b[97mINFO\u001b[0m - \n",
            "backbone.stages.3.blocks.0.ffn.layers.1.weight - torch.Size([1536, 6144]): \n",
            "Initialized by user-defined `init_weights` in SwinTransformer  \n",
            " \n",
            "10/10 15:52:48 - mmengine - \u001b[4m\u001b[97mINFO\u001b[0m - \n",
            "backbone.stages.3.blocks.0.ffn.layers.1.bias - torch.Size([1536]): \n",
            "Initialized by user-defined `init_weights` in SwinTransformer  \n",
            " \n",
            "10/10 15:52:48 - mmengine - \u001b[4m\u001b[97mINFO\u001b[0m - \n",
            "backbone.stages.3.blocks.1.norm1.weight - torch.Size([1536]): \n",
            "Initialized by user-defined `init_weights` in SwinTransformer  \n",
            " \n",
            "10/10 15:52:48 - mmengine - \u001b[4m\u001b[97mINFO\u001b[0m - \n",
            "backbone.stages.3.blocks.1.norm1.bias - torch.Size([1536]): \n",
            "Initialized by user-defined `init_weights` in SwinTransformer  \n",
            " \n",
            "10/10 15:52:48 - mmengine - \u001b[4m\u001b[97mINFO\u001b[0m - \n",
            "backbone.stages.3.blocks.1.attn.w_msa.relative_position_bias_table - torch.Size([529, 48]): \n",
            "Initialized by user-defined `init_weights` in SwinTransformer  \n",
            " \n",
            "10/10 15:52:48 - mmengine - \u001b[4m\u001b[97mINFO\u001b[0m - \n",
            "backbone.stages.3.blocks.1.attn.w_msa.qkv.weight - torch.Size([4608, 1536]): \n",
            "Initialized by user-defined `init_weights` in SwinTransformer  \n",
            " \n",
            "10/10 15:52:48 - mmengine - \u001b[4m\u001b[97mINFO\u001b[0m - \n",
            "backbone.stages.3.blocks.1.attn.w_msa.qkv.bias - torch.Size([4608]): \n",
            "Initialized by user-defined `init_weights` in SwinTransformer  \n",
            " \n",
            "10/10 15:52:48 - mmengine - \u001b[4m\u001b[97mINFO\u001b[0m - \n",
            "backbone.stages.3.blocks.1.attn.w_msa.proj.weight - torch.Size([1536, 1536]): \n",
            "Initialized by user-defined `init_weights` in SwinTransformer  \n",
            " \n",
            "10/10 15:52:48 - mmengine - \u001b[4m\u001b[97mINFO\u001b[0m - \n",
            "backbone.stages.3.blocks.1.attn.w_msa.proj.bias - torch.Size([1536]): \n",
            "Initialized by user-defined `init_weights` in SwinTransformer  \n",
            " \n",
            "10/10 15:52:48 - mmengine - \u001b[4m\u001b[97mINFO\u001b[0m - \n",
            "backbone.stages.3.blocks.1.norm2.weight - torch.Size([1536]): \n",
            "Initialized by user-defined `init_weights` in SwinTransformer  \n",
            " \n",
            "10/10 15:52:48 - mmengine - \u001b[4m\u001b[97mINFO\u001b[0m - \n",
            "backbone.stages.3.blocks.1.norm2.bias - torch.Size([1536]): \n",
            "Initialized by user-defined `init_weights` in SwinTransformer  \n",
            " \n",
            "10/10 15:52:48 - mmengine - \u001b[4m\u001b[97mINFO\u001b[0m - \n",
            "backbone.stages.3.blocks.1.ffn.layers.0.0.weight - torch.Size([6144, 1536]): \n",
            "Initialized by user-defined `init_weights` in SwinTransformer  \n",
            " \n",
            "10/10 15:52:48 - mmengine - \u001b[4m\u001b[97mINFO\u001b[0m - \n",
            "backbone.stages.3.blocks.1.ffn.layers.0.0.bias - torch.Size([6144]): \n",
            "Initialized by user-defined `init_weights` in SwinTransformer  \n",
            " \n",
            "10/10 15:52:48 - mmengine - \u001b[4m\u001b[97mINFO\u001b[0m - \n",
            "backbone.stages.3.blocks.1.ffn.layers.1.weight - torch.Size([1536, 6144]): \n",
            "Initialized by user-defined `init_weights` in SwinTransformer  \n",
            " \n",
            "10/10 15:52:48 - mmengine - \u001b[4m\u001b[97mINFO\u001b[0m - \n",
            "backbone.stages.3.blocks.1.ffn.layers.1.bias - torch.Size([1536]): \n",
            "Initialized by user-defined `init_weights` in SwinTransformer  \n",
            " \n",
            "10/10 15:52:48 - mmengine - \u001b[4m\u001b[97mINFO\u001b[0m - \n",
            "backbone.norm0.weight - torch.Size([192]): \n",
            "The value is the same before and after calling `init_weights` of EncoderDecoder  \n",
            " \n",
            "10/10 15:52:48 - mmengine - \u001b[4m\u001b[97mINFO\u001b[0m - \n",
            "backbone.norm0.bias - torch.Size([192]): \n",
            "The value is the same before and after calling `init_weights` of EncoderDecoder  \n",
            " \n",
            "10/10 15:52:48 - mmengine - \u001b[4m\u001b[97mINFO\u001b[0m - \n",
            "backbone.norm1.weight - torch.Size([384]): \n",
            "The value is the same before and after calling `init_weights` of EncoderDecoder  \n",
            " \n",
            "10/10 15:52:48 - mmengine - \u001b[4m\u001b[97mINFO\u001b[0m - \n",
            "backbone.norm1.bias - torch.Size([384]): \n",
            "The value is the same before and after calling `init_weights` of EncoderDecoder  \n",
            " \n",
            "10/10 15:52:48 - mmengine - \u001b[4m\u001b[97mINFO\u001b[0m - \n",
            "backbone.norm2.weight - torch.Size([768]): \n",
            "The value is the same before and after calling `init_weights` of EncoderDecoder  \n",
            " \n",
            "10/10 15:52:48 - mmengine - \u001b[4m\u001b[97mINFO\u001b[0m - \n",
            "backbone.norm2.bias - torch.Size([768]): \n",
            "The value is the same before and after calling `init_weights` of EncoderDecoder  \n",
            " \n",
            "10/10 15:52:48 - mmengine - \u001b[4m\u001b[97mINFO\u001b[0m - \n",
            "backbone.norm3.weight - torch.Size([1536]): \n",
            "The value is the same before and after calling `init_weights` of EncoderDecoder  \n",
            " \n",
            "10/10 15:52:48 - mmengine - \u001b[4m\u001b[97mINFO\u001b[0m - \n",
            "backbone.norm3.bias - torch.Size([1536]): \n",
            "The value is the same before and after calling `init_weights` of EncoderDecoder  \n",
            " \n",
            "10/10 15:52:48 - mmengine - \u001b[4m\u001b[97mINFO\u001b[0m - \n",
            "decode_head.conv_seg.weight - torch.Size([3, 512, 1, 1]): \n",
            "NormalInit: mean=0, std=0.01, bias=0 \n",
            " \n",
            "10/10 15:52:48 - mmengine - \u001b[4m\u001b[97mINFO\u001b[0m - \n",
            "decode_head.conv_seg.bias - torch.Size([3]): \n",
            "NormalInit: mean=0, std=0.01, bias=0 \n",
            " \n",
            "10/10 15:52:48 - mmengine - \u001b[4m\u001b[97mINFO\u001b[0m - \n",
            "decode_head.psp_modules.0.1.conv.weight - torch.Size([512, 1536, 1, 1]): \n",
            "The value is the same before and after calling `init_weights` of EncoderDecoder  \n",
            " \n",
            "10/10 15:52:48 - mmengine - \u001b[4m\u001b[97mINFO\u001b[0m - \n",
            "decode_head.psp_modules.0.1.bn.weight - torch.Size([512]): \n",
            "The value is the same before and after calling `init_weights` of EncoderDecoder  \n",
            " \n",
            "10/10 15:52:48 - mmengine - \u001b[4m\u001b[97mINFO\u001b[0m - \n",
            "decode_head.psp_modules.0.1.bn.bias - torch.Size([512]): \n",
            "The value is the same before and after calling `init_weights` of EncoderDecoder  \n",
            " \n",
            "10/10 15:52:48 - mmengine - \u001b[4m\u001b[97mINFO\u001b[0m - \n",
            "decode_head.psp_modules.1.1.conv.weight - torch.Size([512, 1536, 1, 1]): \n",
            "The value is the same before and after calling `init_weights` of EncoderDecoder  \n",
            " \n",
            "10/10 15:52:48 - mmengine - \u001b[4m\u001b[97mINFO\u001b[0m - \n",
            "decode_head.psp_modules.1.1.bn.weight - torch.Size([512]): \n",
            "The value is the same before and after calling `init_weights` of EncoderDecoder  \n",
            " \n",
            "10/10 15:52:48 - mmengine - \u001b[4m\u001b[97mINFO\u001b[0m - \n",
            "decode_head.psp_modules.1.1.bn.bias - torch.Size([512]): \n",
            "The value is the same before and after calling `init_weights` of EncoderDecoder  \n",
            " \n",
            "10/10 15:52:48 - mmengine - \u001b[4m\u001b[97mINFO\u001b[0m - \n",
            "decode_head.psp_modules.2.1.conv.weight - torch.Size([512, 1536, 1, 1]): \n",
            "The value is the same before and after calling `init_weights` of EncoderDecoder  \n",
            " \n",
            "10/10 15:52:48 - mmengine - \u001b[4m\u001b[97mINFO\u001b[0m - \n",
            "decode_head.psp_modules.2.1.bn.weight - torch.Size([512]): \n",
            "The value is the same before and after calling `init_weights` of EncoderDecoder  \n",
            " \n",
            "10/10 15:52:48 - mmengine - \u001b[4m\u001b[97mINFO\u001b[0m - \n",
            "decode_head.psp_modules.2.1.bn.bias - torch.Size([512]): \n",
            "The value is the same before and after calling `init_weights` of EncoderDecoder  \n",
            " \n",
            "10/10 15:52:48 - mmengine - \u001b[4m\u001b[97mINFO\u001b[0m - \n",
            "decode_head.psp_modules.3.1.conv.weight - torch.Size([512, 1536, 1, 1]): \n",
            "The value is the same before and after calling `init_weights` of EncoderDecoder  \n",
            " \n",
            "10/10 15:52:48 - mmengine - \u001b[4m\u001b[97mINFO\u001b[0m - \n",
            "decode_head.psp_modules.3.1.bn.weight - torch.Size([512]): \n",
            "The value is the same before and after calling `init_weights` of EncoderDecoder  \n",
            " \n",
            "10/10 15:52:48 - mmengine - \u001b[4m\u001b[97mINFO\u001b[0m - \n",
            "decode_head.psp_modules.3.1.bn.bias - torch.Size([512]): \n",
            "The value is the same before and after calling `init_weights` of EncoderDecoder  \n",
            " \n",
            "10/10 15:52:48 - mmengine - \u001b[4m\u001b[97mINFO\u001b[0m - \n",
            "decode_head.bottleneck.conv.weight - torch.Size([512, 3584, 3, 3]): \n",
            "Initialized by user-defined `init_weights` in ConvModule  \n",
            " \n",
            "10/10 15:52:48 - mmengine - \u001b[4m\u001b[97mINFO\u001b[0m - \n",
            "decode_head.bottleneck.bn.weight - torch.Size([512]): \n",
            "The value is the same before and after calling `init_weights` of EncoderDecoder  \n",
            " \n",
            "10/10 15:52:48 - mmengine - \u001b[4m\u001b[97mINFO\u001b[0m - \n",
            "decode_head.bottleneck.bn.bias - torch.Size([512]): \n",
            "The value is the same before and after calling `init_weights` of EncoderDecoder  \n",
            " \n",
            "10/10 15:52:48 - mmengine - \u001b[4m\u001b[97mINFO\u001b[0m - \n",
            "decode_head.lateral_convs.0.conv.weight - torch.Size([512, 192, 1, 1]): \n",
            "The value is the same before and after calling `init_weights` of EncoderDecoder  \n",
            " \n",
            "10/10 15:52:48 - mmengine - \u001b[4m\u001b[97mINFO\u001b[0m - \n",
            "decode_head.lateral_convs.0.bn.weight - torch.Size([512]): \n",
            "The value is the same before and after calling `init_weights` of EncoderDecoder  \n",
            " \n",
            "10/10 15:52:48 - mmengine - \u001b[4m\u001b[97mINFO\u001b[0m - \n",
            "decode_head.lateral_convs.0.bn.bias - torch.Size([512]): \n",
            "The value is the same before and after calling `init_weights` of EncoderDecoder  \n",
            " \n",
            "10/10 15:52:48 - mmengine - \u001b[4m\u001b[97mINFO\u001b[0m - \n",
            "decode_head.lateral_convs.1.conv.weight - torch.Size([512, 384, 1, 1]): \n",
            "The value is the same before and after calling `init_weights` of EncoderDecoder  \n",
            " \n",
            "10/10 15:52:48 - mmengine - \u001b[4m\u001b[97mINFO\u001b[0m - \n",
            "decode_head.lateral_convs.1.bn.weight - torch.Size([512]): \n",
            "The value is the same before and after calling `init_weights` of EncoderDecoder  \n",
            " \n",
            "10/10 15:52:48 - mmengine - \u001b[4m\u001b[97mINFO\u001b[0m - \n",
            "decode_head.lateral_convs.1.bn.bias - torch.Size([512]): \n",
            "The value is the same before and after calling `init_weights` of EncoderDecoder  \n",
            " \n",
            "10/10 15:52:48 - mmengine - \u001b[4m\u001b[97mINFO\u001b[0m - \n",
            "decode_head.lateral_convs.2.conv.weight - torch.Size([512, 768, 1, 1]): \n",
            "The value is the same before and after calling `init_weights` of EncoderDecoder  \n",
            " \n",
            "10/10 15:52:48 - mmengine - \u001b[4m\u001b[97mINFO\u001b[0m - \n",
            "decode_head.lateral_convs.2.bn.weight - torch.Size([512]): \n",
            "The value is the same before and after calling `init_weights` of EncoderDecoder  \n",
            " \n",
            "10/10 15:52:48 - mmengine - \u001b[4m\u001b[97mINFO\u001b[0m - \n",
            "decode_head.lateral_convs.2.bn.bias - torch.Size([512]): \n",
            "The value is the same before and after calling `init_weights` of EncoderDecoder  \n",
            " \n",
            "10/10 15:52:48 - mmengine - \u001b[4m\u001b[97mINFO\u001b[0m - \n",
            "decode_head.fpn_convs.0.conv.weight - torch.Size([512, 512, 3, 3]): \n",
            "The value is the same before and after calling `init_weights` of EncoderDecoder  \n",
            " \n",
            "10/10 15:52:48 - mmengine - \u001b[4m\u001b[97mINFO\u001b[0m - \n",
            "decode_head.fpn_convs.0.bn.weight - torch.Size([512]): \n",
            "The value is the same before and after calling `init_weights` of EncoderDecoder  \n",
            " \n",
            "10/10 15:52:48 - mmengine - \u001b[4m\u001b[97mINFO\u001b[0m - \n",
            "decode_head.fpn_convs.0.bn.bias - torch.Size([512]): \n",
            "The value is the same before and after calling `init_weights` of EncoderDecoder  \n",
            " \n",
            "10/10 15:52:48 - mmengine - \u001b[4m\u001b[97mINFO\u001b[0m - \n",
            "decode_head.fpn_convs.1.conv.weight - torch.Size([512, 512, 3, 3]): \n",
            "The value is the same before and after calling `init_weights` of EncoderDecoder  \n",
            " \n",
            "10/10 15:52:48 - mmengine - \u001b[4m\u001b[97mINFO\u001b[0m - \n",
            "decode_head.fpn_convs.1.bn.weight - torch.Size([512]): \n",
            "The value is the same before and after calling `init_weights` of EncoderDecoder  \n",
            " \n",
            "10/10 15:52:48 - mmengine - \u001b[4m\u001b[97mINFO\u001b[0m - \n",
            "decode_head.fpn_convs.1.bn.bias - torch.Size([512]): \n",
            "The value is the same before and after calling `init_weights` of EncoderDecoder  \n",
            " \n",
            "10/10 15:52:48 - mmengine - \u001b[4m\u001b[97mINFO\u001b[0m - \n",
            "decode_head.fpn_convs.2.conv.weight - torch.Size([512, 512, 3, 3]): \n",
            "The value is the same before and after calling `init_weights` of EncoderDecoder  \n",
            " \n",
            "10/10 15:52:48 - mmengine - \u001b[4m\u001b[97mINFO\u001b[0m - \n",
            "decode_head.fpn_convs.2.bn.weight - torch.Size([512]): \n",
            "The value is the same before and after calling `init_weights` of EncoderDecoder  \n",
            " \n",
            "10/10 15:52:48 - mmengine - \u001b[4m\u001b[97mINFO\u001b[0m - \n",
            "decode_head.fpn_convs.2.bn.bias - torch.Size([512]): \n",
            "The value is the same before and after calling `init_weights` of EncoderDecoder  \n",
            " \n",
            "10/10 15:52:48 - mmengine - \u001b[4m\u001b[97mINFO\u001b[0m - \n",
            "decode_head.fpn_bottleneck.conv.weight - torch.Size([512, 2048, 3, 3]): \n",
            "Initialized by user-defined `init_weights` in ConvModule  \n",
            " \n",
            "10/10 15:52:48 - mmengine - \u001b[4m\u001b[97mINFO\u001b[0m - \n",
            "decode_head.fpn_bottleneck.bn.weight - torch.Size([512]): \n",
            "The value is the same before and after calling `init_weights` of EncoderDecoder  \n",
            " \n",
            "10/10 15:52:48 - mmengine - \u001b[4m\u001b[97mINFO\u001b[0m - \n",
            "decode_head.fpn_bottleneck.bn.bias - torch.Size([512]): \n",
            "The value is the same before and after calling `init_weights` of EncoderDecoder  \n",
            " \n",
            "10/10 15:52:48 - mmengine - \u001b[4m\u001b[97mINFO\u001b[0m - \n",
            "auxiliary_head.conv_seg.weight - torch.Size([3, 256, 1, 1]): \n",
            "NormalInit: mean=0, std=0.01, bias=0 \n",
            " \n",
            "10/10 15:52:48 - mmengine - \u001b[4m\u001b[97mINFO\u001b[0m - \n",
            "auxiliary_head.conv_seg.bias - torch.Size([3]): \n",
            "NormalInit: mean=0, std=0.01, bias=0 \n",
            " \n",
            "10/10 15:52:48 - mmengine - \u001b[4m\u001b[97mINFO\u001b[0m - \n",
            "auxiliary_head.convs.0.conv.weight - torch.Size([256, 768, 3, 3]): \n",
            "The value is the same before and after calling `init_weights` of EncoderDecoder  \n",
            " \n",
            "10/10 15:52:48 - mmengine - \u001b[4m\u001b[97mINFO\u001b[0m - \n",
            "auxiliary_head.convs.0.bn.weight - torch.Size([256]): \n",
            "The value is the same before and after calling `init_weights` of EncoderDecoder  \n",
            " \n",
            "10/10 15:52:48 - mmengine - \u001b[4m\u001b[97mINFO\u001b[0m - \n",
            "auxiliary_head.convs.0.bn.bias - torch.Size([256]): \n",
            "The value is the same before and after calling `init_weights` of EncoderDecoder  \n",
            " \n"
          ]
        }
      ],
      "source": [
        "#device\n",
        "device = torch.device(\"cuda:0\" if torch.cuda.is_available() else \"cpu\")\n",
        "\n",
        "norm_cfg = dict(type='BN', requires_grad=True)\n",
        "# checkpoint = 'https://download.openmmlab.com/mmsegmentation/v0.5/pretrain/segformer/mit_b4_20220624-d588d980.pth'  # noqa\n",
        "# model = dict(\n",
        "#     type='EncoderDecoder',\n",
        "#     pretrained=None,\n",
        "#     backbone=dict(\n",
        "#         type='MixVisionTransformer',\n",
        "#         in_channels=3,\n",
        "#         embed_dims=64,\n",
        "#         num_stages=4,\n",
        "#         num_layers=[3, 8, 27, 3],\n",
        "#         num_heads=[1, 2, 5, 8],\n",
        "#         patch_sizes=[7, 3, 3, 3],\n",
        "#         sr_ratios=[8, 4, 2, 1],\n",
        "#         out_indices=(0, 1, 2, 3),\n",
        "#         mlp_ratio=4,\n",
        "#         qkv_bias=True,\n",
        "#         drop_rate=0.0,\n",
        "#         attn_drop_rate=0.0,\n",
        "#         drop_path_rate=0.,\n",
        "#         init_cfg = dict(type=\"Pretrained\", checkpoint=checkpoint)),\n",
        "#     decode_head=dict(\n",
        "#         type='SegformerHead',\n",
        "#         in_channels=[64, 128, 320, 512],\n",
        "#         in_index=[0, 1, 2, 3],\n",
        "#         channels=256,\n",
        "#         dropout_ratio=0.1,\n",
        "#         num_classes=config[\"num_classes\"],\n",
        "#         norm_cfg=norm_cfg,\n",
        "#         align_corners=False,\n",
        "#         loss_decode=dict(type='CrossEntropyLoss', use_sigmoid=False, loss_weight=1.0)),\n",
        "#     train_cfg=dict())\n",
        "\n",
        "backbone_norm_cfg = dict(type='LN', requires_grad=True)\n",
        "# checkpoint_file = 'https://download.openmmlab.com/mmsegmentation/v0.5/pretrain/swin/swin_large_patch4_window12_384_22k_20220412-6580f57d.pth'  # noqa\n",
        "# model_cfg = dict(\n",
        "#     type='EncoderDecoder',\n",
        "#     pretrained=None,\n",
        "#     backbone=dict(\n",
        "#         type='SwinTransformer',\n",
        "#         pretrain_img_size=config[\"img_size\"],\n",
        "#         embed_dims=192,\n",
        "#         patch_size=4,\n",
        "#         mlp_ratio=4,\n",
        "#         window_size=12,\n",
        "#         depths=[2, 2, 18, 2],\n",
        "#         num_heads=[6, 12, 24, 48],\n",
        "#         strides=(4, 2, 2, 2),\n",
        "#         out_indices=(0, 1, 2, 3),\n",
        "#         qkv_bias=True,\n",
        "#         qk_scale=None,\n",
        "#         patch_norm=True,\n",
        "#         drop_rate=0.,\n",
        "#         attn_drop_rate=0.,\n",
        "#         drop_path_rate=0.3,\n",
        "#         use_abs_pos_embed=False,\n",
        "#         act_cfg=dict(type='GELU'),\n",
        "#         norm_cfg=backbone_norm_cfg,\n",
        "#         init_cfg=dict(type='Pretrained', checkpoint=checkpoint_file)),\n",
        "#     decode_head=dict(\n",
        "#         type='UPerHead',\n",
        "#         in_channels=[192, 384, 768, 1536],\n",
        "#         in_index=[0, 1, 2, 3],\n",
        "#         pool_scales=(1, 2, 3, 6),\n",
        "#         channels=512,\n",
        "#         dropout_ratio=0.1,\n",
        "#         num_classes=config[\"num_classes\"],\n",
        "#         norm_cfg=norm_cfg,\n",
        "#         align_corners=False,\n",
        "#         loss_decode=dict(\n",
        "#             type='CrossEntropyLoss', use_sigmoid=False, loss_weight=1.0)),\n",
        "#     auxiliary_head=dict(\n",
        "#         type='FCNHead',\n",
        "#         in_channels=768,\n",
        "#         in_index=2,\n",
        "#         channels=256,\n",
        "#         num_convs=1,\n",
        "#         concat_input=False,\n",
        "#         dropout_ratio=0.1,\n",
        "#         num_classes=config[\"num_classes\"],\n",
        "#         norm_cfg=norm_cfg,\n",
        "#         align_corners=False,\n",
        "#         loss_decode=dict(\n",
        "#             type='CrossEntropyLoss', use_sigmoid=False, loss_weight=1.0)),\n",
        "#     # model training and testing settings\n",
        "#     train_cfg=dict(),\n",
        "#     test_cfg=dict(mode='whole'))\n",
        "\n",
        "checkpoint_file = 'https://download.openmmlab.com/mmsegmentation/v0.5/pretrain/swin/swin_large_patch4_window7_224_22k_20220412-aeecf2aa.pth'  # noqa\n",
        "model_cfg = dict(\n",
        "    type='EncoderDecoder',\n",
        "    pretrained=None,\n",
        "    backbone=dict(\n",
        "        type='SwinTransformer',\n",
        "        pretrain_img_size=config[\"img_size\"],\n",
        "        embed_dims=192,\n",
        "        patch_size=4,\n",
        "        mlp_ratio=4,\n",
        "        window_size=12,\n",
        "        depths=[2, 2, 18, 2],\n",
        "        num_heads=[6, 12, 24, 48],\n",
        "        strides=(4, 2, 2, 2),\n",
        "        out_indices=(0, 1, 2, 3),\n",
        "        qkv_bias=True,\n",
        "        qk_scale=None,\n",
        "        patch_norm=True,\n",
        "        drop_rate=0.,\n",
        "        attn_drop_rate=0.,\n",
        "        drop_path_rate=0.3,\n",
        "        use_abs_pos_embed=False,\n",
        "        act_cfg=dict(type='GELU'),\n",
        "        norm_cfg=backbone_norm_cfg,\n",
        "        init_cfg=dict(type='Pretrained', checkpoint=checkpoint_file)),\n",
        "    decode_head=dict(\n",
        "        type='UPerHead',\n",
        "        in_channels=[192, 384, 768, 1536],\n",
        "        in_index=[0, 1, 2, 3],\n",
        "        pool_scales=(1, 2, 3, 6),\n",
        "        channels=512,\n",
        "        dropout_ratio=0.1,\n",
        "        num_classes=config[\"num_classes\"],\n",
        "        norm_cfg=norm_cfg,\n",
        "        align_corners=False,\n",
        "        loss_decode=dict(\n",
        "            type='CrossEntropyLoss', use_sigmoid=False, loss_weight=1.0)),\n",
        "    auxiliary_head=dict(in_channels=768, num_classes=config[\"num_classes\"]))\n",
        "\n",
        "model = build_segmentor(model_cfg).to(device)\n",
        "model.init_weights()\n",
        "\n",
        "#loss\n",
        "criterion = FocalLoss_Ori(num_class=3)\n",
        "\n",
        "#optimizer\n",
        "n_eps = config[\"epochs\"]\n",
        "init_lr = config[\"init_lr\"]\n",
        "optimizer = torch.optim.Adam(model.parameters(), lr=init_lr)\n",
        "scheduler = torch.optim.lr_scheduler.CosineAnnealingLR(optimizer, T_max=len(train_dataloader)*n_eps, eta_min=init_lr/100)\n",
        "total_step = len(train_dataloader)\n",
        "\n",
        "#meter\n",
        "train_loss_meter = AverageMeter()\n",
        "intersection_meter = AverageMeter()\n",
        "union_meter = AverageMeter()\n",
        "target_meter = AverageMeter()"
      ]
    },
    {
      "cell_type": "code",
      "execution_count": 9,
      "metadata": {},
      "outputs": [
        {
          "name": "stdout",
          "output_type": "stream",
          "text": [
            "./runs/2023-10-10_15-52-48\n"
          ]
        }
      ],
      "source": [
        "## Save Config\n",
        "save_dir = config[\"save_dir\"]\n",
        "current_time = datetime.now().strftime('%Y-%m-%d_%H-%M-%S')\n",
        "save_path = f\"{save_dir}/{current_time}\"\n",
        "\n",
        "if not os.path.isdir(save_path):\n",
        "    print(save_path)\n",
        "    os.makedirs(f\"{save_path}/weights\")\n",
        "    config[\"save_dir\"] = save_path\n",
        "\n",
        "save_config_to_yaml(config, save_path)"
      ]
    },
    {
      "cell_type": "code",
      "execution_count": 10,
      "metadata": {
        "id": "TyVvQtbpv1WW"
      },
      "outputs": [
        {
          "name": "stderr",
          "output_type": "stream",
          "text": [
            "100%|██████████| 125/125 [00:52<00:00,  2.38it/s]\n"
          ]
        },
        {
          "name": "stdout",
          "output_type": "stream",
          "text": [
            "EP : 1, current_lr = [0.0001], train_loss = 0.2471, IoU = 0.1459, dice = 0.2317 \n",
            "\n"
          ]
        },
        {
          "name": "stderr",
          "output_type": "stream",
          "text": [
            "100%|██████████| 125/125 [00:51<00:00,  2.42it/s]\n"
          ]
        },
        {
          "name": "stdout",
          "output_type": "stream",
          "text": [
            "EP : 2, current_lr = [9.997557473810375e-05], train_loss = 0.0505, IoU = 0.3796, dice = 0.4892 \n",
            "\n"
          ]
        },
        {
          "name": "stderr",
          "output_type": "stream",
          "text": [
            "100%|██████████| 125/125 [00:52<00:00,  2.39it/s]\n"
          ]
        },
        {
          "name": "stdout",
          "output_type": "stream",
          "text": [
            "EP : 3, current_lr = [9.990232305719958e-05], train_loss = 0.0325, IoU = 0.4786, dice = 0.6112 \n",
            "\n"
          ]
        },
        {
          "name": "stderr",
          "output_type": "stream",
          "text": [
            "100%|██████████| 125/125 [00:52<00:00,  2.40it/s]\n"
          ]
        },
        {
          "name": "stdout",
          "output_type": "stream",
          "text": [
            "EP : 4, current_lr = [9.978031724785267e-05], train_loss = 0.0291, IoU = 0.5204, dice = 0.6571 \n",
            "\n"
          ]
        },
        {
          "name": "stderr",
          "output_type": "stream",
          "text": [
            "100%|██████████| 125/125 [00:50<00:00,  2.46it/s]\n"
          ]
        },
        {
          "name": "stdout",
          "output_type": "stream",
          "text": [
            "EP : 5, current_lr = [9.960967771506686e-05], train_loss = 0.0244, IoU = 0.5585, dice = 0.6926 \n",
            "\n"
          ]
        },
        {
          "name": "stderr",
          "output_type": "stream",
          "text": [
            "100%|██████████| 125/125 [00:52<00:00,  2.40it/s]\n"
          ]
        },
        {
          "name": "stdout",
          "output_type": "stream",
          "text": [
            "EP : 6, current_lr = [9.939057285945944e-05], train_loss = 0.0230, IoU = 0.5820, dice = 0.7164 \n",
            "\n"
          ]
        },
        {
          "name": "stderr",
          "output_type": "stream",
          "text": [
            "100%|██████████| 125/125 [00:50<00:00,  2.46it/s]\n"
          ]
        },
        {
          "name": "stdout",
          "output_type": "stream",
          "text": [
            "EP : 7, current_lr = [9.912321891107021e-05], train_loss = 0.0192, IoU = 0.6297, dice = 0.7585 \n",
            "\n"
          ]
        },
        {
          "name": "stderr",
          "output_type": "stream",
          "text": [
            "100%|██████████| 125/125 [00:51<00:00,  2.43it/s]\n"
          ]
        },
        {
          "name": "stdout",
          "output_type": "stream",
          "text": [
            "EP : 8, current_lr = [9.880787971596807e-05], train_loss = 0.0187, IoU = 0.6317, dice = 0.7609 \n",
            "\n"
          ]
        },
        {
          "name": "stderr",
          "output_type": "stream",
          "text": [
            "100%|██████████| 125/125 [00:51<00:00,  2.44it/s]\n"
          ]
        },
        {
          "name": "stdout",
          "output_type": "stream",
          "text": [
            "EP : 9, current_lr = [9.84448664758673e-05], train_loss = 0.0175, IoU = 0.6587, dice = 0.7818 \n",
            "\n"
          ]
        },
        {
          "name": "stderr",
          "output_type": "stream",
          "text": [
            "100%|██████████| 125/125 [00:51<00:00,  2.41it/s]\n"
          ]
        },
        {
          "name": "stdout",
          "output_type": "stream",
          "text": [
            "EP : 10, current_lr = [9.803453744100873e-05], train_loss = 0.0159, IoU = 0.6820, dice = 0.8017 \n",
            "\n"
          ]
        },
        {
          "name": "stderr",
          "output_type": "stream",
          "text": [
            "100%|██████████| 125/125 [00:51<00:00,  2.43it/s]\n"
          ]
        },
        {
          "name": "stdout",
          "output_type": "stream",
          "text": [
            "EP : 11, current_lr = [9.75772975566101e-05], train_loss = 0.0172, IoU = 0.6528, dice = 0.7773 \n",
            "\n"
          ]
        },
        {
          "name": "stderr",
          "output_type": "stream",
          "text": [
            "100%|██████████| 125/125 [00:52<00:00,  2.39it/s]\n"
          ]
        },
        {
          "name": "stdout",
          "output_type": "stream",
          "text": [
            "EP : 12, current_lr = [9.707359806323412e-05], train_loss = 0.0155, IoU = 0.6709, dice = 0.7919 \n",
            "\n"
          ]
        },
        {
          "name": "stderr",
          "output_type": "stream",
          "text": [
            "100%|██████████| 125/125 [00:51<00:00,  2.42it/s]\n"
          ]
        },
        {
          "name": "stdout",
          "output_type": "stream",
          "text": [
            "EP : 13, current_lr = [9.652393605146843e-05], train_loss = 0.0119, IoU = 0.7567, dice = 0.8569 \n",
            "\n"
          ]
        },
        {
          "name": "stderr",
          "output_type": "stream",
          "text": [
            "100%|██████████| 125/125 [00:51<00:00,  2.42it/s]\n"
          ]
        },
        {
          "name": "stdout",
          "output_type": "stream",
          "text": [
            "EP : 14, current_lr = [9.592885397135707e-05], train_loss = 0.0129, IoU = 0.7364, dice = 0.8423 \n",
            "\n"
          ]
        },
        {
          "name": "stderr",
          "output_type": "stream",
          "text": [
            "100%|██████████| 125/125 [00:51<00:00,  2.41it/s]\n"
          ]
        },
        {
          "name": "stdout",
          "output_type": "stream",
          "text": [
            "EP : 15, current_lr = [9.528893909706792e-05], train_loss = 0.0109, IoU = 0.7827, dice = 0.8752 \n",
            "\n"
          ]
        },
        {
          "name": "stderr",
          "output_type": "stream",
          "text": [
            "100%|██████████| 125/125 [00:51<00:00,  2.41it/s]\n"
          ]
        },
        {
          "name": "stdout",
          "output_type": "stream",
          "text": [
            "EP : 16, current_lr = [9.46048229473242e-05], train_loss = 0.0130, IoU = 0.7474, dice = 0.8503 \n",
            "\n"
          ]
        },
        {
          "name": "stderr",
          "output_type": "stream",
          "text": [
            "100%|██████████| 125/125 [00:52<00:00,  2.40it/s]\n"
          ]
        },
        {
          "name": "stdout",
          "output_type": "stream",
          "text": [
            "EP : 17, current_lr = [9.38771806621712e-05], train_loss = 0.0102, IoU = 0.7788, dice = 0.8719 \n",
            "\n"
          ]
        },
        {
          "name": "stderr",
          "output_type": "stream",
          "text": [
            "100%|██████████| 125/125 [00:52<00:00,  2.40it/s]\n"
          ]
        },
        {
          "name": "stdout",
          "output_type": "stream",
          "text": [
            "EP : 18, current_lr = [9.31067303366952e-05], train_loss = 0.0093, IoU = 0.7973, dice = 0.8842 \n",
            "\n"
          ]
        },
        {
          "name": "stderr",
          "output_type": "stream",
          "text": [
            "100%|██████████| 125/125 [00:51<00:00,  2.44it/s]\n"
          ]
        },
        {
          "name": "stdout",
          "output_type": "stream",
          "text": [
            "EP : 19, current_lr = [9.229423231234974e-05], train_loss = 0.0142, IoU = 0.6840, dice = 0.8010 \n",
            "\n"
          ]
        },
        {
          "name": "stderr",
          "output_type": "stream",
          "text": [
            "100%|██████████| 125/125 [00:51<00:00,  2.44it/s]\n"
          ]
        },
        {
          "name": "stdout",
          "output_type": "stream",
          "text": [
            "EP : 20, current_lr = [9.144048842659087e-05], train_loss = 0.0109, IoU = 0.7770, dice = 0.8714 \n",
            "\n"
          ]
        },
        {
          "name": "stderr",
          "output_type": "stream",
          "text": [
            "100%|██████████| 125/125 [00:51<00:00,  2.43it/s]\n"
          ]
        },
        {
          "name": "stdout",
          "output_type": "stream",
          "text": [
            "EP : 21, current_lr = [9.054634122156004e-05], train_loss = 0.0130, IoU = 0.7190, dice = 0.8291 \n",
            "\n"
          ]
        },
        {
          "name": "stderr",
          "output_type": "stream",
          "text": [
            "100%|██████████| 125/125 [00:52<00:00,  2.40it/s]\n"
          ]
        },
        {
          "name": "stdout",
          "output_type": "stream",
          "text": [
            "EP : 22, current_lr = [8.961267311259685e-05], train_loss = 0.0094, IoU = 0.7818, dice = 0.8739 \n",
            "\n"
          ]
        },
        {
          "name": "stderr",
          "output_type": "stream",
          "text": [
            "100%|██████████| 125/125 [00:52<00:00,  2.37it/s]\n"
          ]
        },
        {
          "name": "stdout",
          "output_type": "stream",
          "text": [
            "EP : 23, current_lr = [8.864040551740171e-05], train_loss = 0.0086, IoU = 0.8165, dice = 0.8967 \n",
            "\n"
          ]
        },
        {
          "name": "stderr",
          "output_type": "stream",
          "text": [
            "100%|██████████| 125/125 [00:51<00:00,  2.42it/s]\n"
          ]
        },
        {
          "name": "stdout",
          "output_type": "stream",
          "text": [
            "EP : 24, current_lr = [8.763049794670801e-05], train_loss = 0.0081, IoU = 0.8079, dice = 0.8911 \n",
            "\n"
          ]
        },
        {
          "name": "stderr",
          "output_type": "stream",
          "text": [
            "100%|██████████| 125/125 [00:51<00:00,  2.44it/s]\n"
          ]
        },
        {
          "name": "stdout",
          "output_type": "stream",
          "text": [
            "EP : 25, current_lr = [8.658394705736e-05], train_loss = 0.0084, IoU = 0.8236, dice = 0.9013 \n",
            "\n"
          ]
        },
        {
          "name": "stderr",
          "output_type": "stream",
          "text": [
            "100%|██████████| 125/125 [00:51<00:00,  2.41it/s]\n"
          ]
        },
        {
          "name": "stdout",
          "output_type": "stream",
          "text": [
            "EP : 26, current_lr = [8.55017856687342e-05], train_loss = 0.0120, IoU = 0.7699, dice = 0.8660 \n",
            "\n"
          ]
        },
        {
          "name": "stderr",
          "output_type": "stream",
          "text": [
            "100%|██████████| 125/125 [00:51<00:00,  2.43it/s]\n"
          ]
        },
        {
          "name": "stdout",
          "output_type": "stream",
          "text": [
            "EP : 27, current_lr = [8.438508174347025e-05], train_loss = 0.0089, IoU = 0.8113, dice = 0.8936 \n",
            "\n"
          ]
        },
        {
          "name": "stderr",
          "output_type": "stream",
          "text": [
            "100%|██████████| 125/125 [00:51<00:00,  2.41it/s]\n"
          ]
        },
        {
          "name": "stdout",
          "output_type": "stream",
          "text": [
            "EP : 28, current_lr = [8.323493733352088e-05], train_loss = 0.0086, IoU = 0.8190, dice = 0.8982 \n",
            "\n"
          ]
        },
        {
          "name": "stderr",
          "output_type": "stream",
          "text": [
            "100%|██████████| 125/125 [00:51<00:00,  2.41it/s]\n"
          ]
        },
        {
          "name": "stdout",
          "output_type": "stream",
          "text": [
            "EP : 29, current_lr = [8.20524874925602e-05], train_loss = 0.0078, IoU = 0.8379, dice = 0.9102 \n",
            "\n"
          ]
        },
        {
          "name": "stderr",
          "output_type": "stream",
          "text": [
            "100%|██████████| 125/125 [00:51<00:00,  2.43it/s]\n"
          ]
        },
        {
          "name": "stdout",
          "output_type": "stream",
          "text": [
            "EP : 30, current_lr = [8.083889915582253e-05], train_loss = 0.0074, IoU = 0.8367, dice = 0.9093 \n",
            "\n"
          ]
        },
        {
          "name": "stderr",
          "output_type": "stream",
          "text": [
            "100%|██████████| 125/125 [00:51<00:00,  2.42it/s]\n"
          ]
        },
        {
          "name": "stdout",
          "output_type": "stream",
          "text": [
            "EP : 31, current_lr = [7.959536998847757e-05], train_loss = 0.0083, IoU = 0.8201, dice = 0.8991 \n",
            "\n"
          ]
        },
        {
          "name": "stderr",
          "output_type": "stream",
          "text": [
            "100%|██████████| 125/125 [00:52<00:00,  2.40it/s]\n"
          ]
        },
        {
          "name": "stdout",
          "output_type": "stream",
          "text": [
            "EP : 32, current_lr = [7.832312720368066e-05], train_loss = 0.0078, IoU = 0.8343, dice = 0.9079 \n",
            "\n"
          ]
        },
        {
          "name": "stderr",
          "output_type": "stream",
          "text": [
            "100%|██████████| 125/125 [00:51<00:00,  2.42it/s]\n"
          ]
        },
        {
          "name": "stdout",
          "output_type": "stream",
          "text": [
            "EP : 33, current_lr = [7.70234263514605e-05], train_loss = 0.0086, IoU = 0.7990, dice = 0.8850 \n",
            "\n"
          ]
        },
        {
          "name": "stderr",
          "output_type": "stream",
          "text": [
            "100%|██████████| 125/125 [00:52<00:00,  2.40it/s]\n"
          ]
        },
        {
          "name": "stdout",
          "output_type": "stream",
          "text": [
            "EP : 34, current_lr = [7.569755007964345e-05], train_loss = 0.0065, IoU = 0.8489, dice = 0.9169 \n",
            "\n"
          ]
        },
        {
          "name": "stderr",
          "output_type": "stream",
          "text": [
            "100%|██████████| 125/125 [00:52<00:00,  2.40it/s]\n"
          ]
        },
        {
          "name": "stdout",
          "output_type": "stream",
          "text": [
            "EP : 35, current_lr = [7.434680686803488e-05], train_loss = 0.0065, IoU = 0.8455, dice = 0.9146 \n",
            "\n"
          ]
        },
        {
          "name": "stderr",
          "output_type": "stream",
          "text": [
            "100%|██████████| 125/125 [00:52<00:00,  2.40it/s]\n"
          ]
        },
        {
          "name": "stdout",
          "output_type": "stream",
          "text": [
            "EP : 36, current_lr = [7.297252973710754e-05], train_loss = 0.0082, IoU = 0.8163, dice = 0.8965 \n",
            "\n"
          ]
        },
        {
          "name": "stderr",
          "output_type": "stream",
          "text": [
            "100%|██████████| 125/125 [00:52<00:00,  2.39it/s]\n"
          ]
        },
        {
          "name": "stdout",
          "output_type": "stream",
          "text": [
            "EP : 37, current_lr = [7.15760749324711e-05], train_loss = 0.0068, IoU = 0.8564, dice = 0.9215 \n",
            "\n"
          ]
        },
        {
          "name": "stderr",
          "output_type": "stream",
          "text": [
            "100%|██████████| 125/125 [00:51<00:00,  2.41it/s]\n"
          ]
        },
        {
          "name": "stdout",
          "output_type": "stream",
          "text": [
            "EP : 38, current_lr = [7.015882058642164e-05], train_loss = 0.0059, IoU = 0.8654, dice = 0.9268 \n",
            "\n"
          ]
        },
        {
          "name": "stderr",
          "output_type": "stream",
          "text": [
            "100%|██████████| 125/125 [00:51<00:00,  2.41it/s]\n"
          ]
        },
        {
          "name": "stdout",
          "output_type": "stream",
          "text": [
            "EP : 39, current_lr = [6.872216535789163e-05], train_loss = 0.0060, IoU = 0.8705, dice = 0.9299 \n",
            "\n"
          ]
        },
        {
          "name": "stderr",
          "output_type": "stream",
          "text": [
            "100%|██████████| 125/125 [00:51<00:00,  2.43it/s]\n"
          ]
        },
        {
          "name": "stdout",
          "output_type": "stream",
          "text": [
            "EP : 40, current_lr = [6.726752705214191e-05], train_loss = 0.0066, IoU = 0.8552, dice = 0.9208 \n",
            "\n"
          ]
        },
        {
          "name": "stderr",
          "output_type": "stream",
          "text": [
            "100%|██████████| 125/125 [00:51<00:00,  2.43it/s]\n"
          ]
        },
        {
          "name": "stdout",
          "output_type": "stream",
          "text": [
            "EP : 41, current_lr = [6.579634122155991e-05], train_loss = 0.0061, IoU = 0.8545, dice = 0.9200 \n",
            "\n"
          ]
        },
        {
          "name": "stderr",
          "output_type": "stream",
          "text": [
            "100%|██████████| 125/125 [00:52<00:00,  2.36it/s]\n"
          ]
        },
        {
          "name": "stdout",
          "output_type": "stream",
          "text": [
            "EP : 42, current_lr = [6.431005974894189e-05], train_loss = 0.0061, IoU = 0.8520, dice = 0.9185 \n",
            "\n"
          ]
        },
        {
          "name": "stderr",
          "output_type": "stream",
          "text": [
            "100%|██████████| 125/125 [00:52<00:00,  2.39it/s]\n"
          ]
        },
        {
          "name": "stdout",
          "output_type": "stream",
          "text": [
            "EP : 43, current_lr = [6.281014941466036e-05], train_loss = 0.0073, IoU = 0.8151, dice = 0.8954 \n",
            "\n"
          ]
        },
        {
          "name": "stderr",
          "output_type": "stream",
          "text": [
            "100%|██████████| 125/125 [00:52<00:00,  2.37it/s]\n"
          ]
        },
        {
          "name": "stdout",
          "output_type": "stream",
          "text": [
            "EP : 44, current_lr = [6.12980904491291e-05], train_loss = 0.0090, IoU = 0.8103, dice = 0.8928 \n",
            "\n"
          ]
        },
        {
          "name": "stderr",
          "output_type": "stream",
          "text": [
            "100%|██████████| 125/125 [00:52<00:00,  2.38it/s]\n"
          ]
        },
        {
          "name": "stdout",
          "output_type": "stream",
          "text": [
            "EP : 45, current_lr = [5.977537507199373e-05], train_loss = 0.0065, IoU = 0.8508, dice = 0.9179 \n",
            "\n"
          ]
        },
        {
          "name": "stderr",
          "output_type": "stream",
          "text": [
            "100%|██████████| 125/125 [00:52<00:00,  2.40it/s]\n"
          ]
        },
        {
          "name": "stdout",
          "output_type": "stream",
          "text": [
            "EP : 46, current_lr = [5.82435060194918e-05], train_loss = 0.0102, IoU = 0.8043, dice = 0.8885 \n",
            "\n"
          ]
        },
        {
          "name": "stderr",
          "output_type": "stream",
          "text": [
            "100%|██████████| 125/125 [00:51<00:00,  2.41it/s]\n"
          ]
        },
        {
          "name": "stdout",
          "output_type": "stream",
          "text": [
            "EP : 47, current_lr = [5.6703995061433434e-05], train_loss = 0.0066, IoU = 0.8454, dice = 0.9146 \n",
            "\n"
          ]
        },
        {
          "name": "stderr",
          "output_type": "stream",
          "text": [
            "100%|██████████| 125/125 [00:52<00:00,  2.40it/s]\n"
          ]
        },
        {
          "name": "stdout",
          "output_type": "stream",
          "text": [
            "EP : 48, current_lr = [5.51583615092668e-05], train_loss = 0.0058, IoU = 0.8667, dice = 0.9277 \n",
            "\n"
          ]
        },
        {
          "name": "stderr",
          "output_type": "stream",
          "text": [
            "100%|██████████| 125/125 [00:52<00:00,  2.39it/s]\n"
          ]
        },
        {
          "name": "stdout",
          "output_type": "stream",
          "text": [
            "EP : 49, current_lr = [5.3608130716701324e-05], train_loss = 0.0058, IoU = 0.8711, dice = 0.9302 \n",
            "\n"
          ]
        },
        {
          "name": "stderr",
          "output_type": "stream",
          "text": [
            "100%|██████████| 125/125 [00:52<00:00,  2.39it/s]\n"
          ]
        },
        {
          "name": "stdout",
          "output_type": "stream",
          "text": [
            "EP : 50, current_lr = [5.2054832574367643e-05], train_loss = 0.0057, IoU = 0.8803, dice = 0.9356 \n",
            "\n"
          ]
        },
        {
          "name": "stderr",
          "output_type": "stream",
          "text": [
            "100%|██████████| 125/125 [00:52<00:00,  2.39it/s]\n"
          ]
        },
        {
          "name": "stdout",
          "output_type": "stream",
          "text": [
            "EP : 51, current_lr = [5.0500000000000286e-05], train_loss = 0.0055, IoU = 0.8757, dice = 0.9329 \n",
            "\n"
          ]
        },
        {
          "name": "stderr",
          "output_type": "stream",
          "text": [
            "100%|██████████| 125/125 [00:51<00:00,  2.44it/s]\n"
          ]
        },
        {
          "name": "stdout",
          "output_type": "stream",
          "text": [
            "EP : 52, current_lr = [4.894516742563292e-05], train_loss = 0.0055, IoU = 0.8757, dice = 0.9329 \n",
            "\n"
          ]
        },
        {
          "name": "stderr",
          "output_type": "stream",
          "text": [
            "100%|██████████| 125/125 [00:51<00:00,  2.41it/s]\n"
          ]
        },
        {
          "name": "stdout",
          "output_type": "stream",
          "text": [
            "EP : 53, current_lr = [4.739186928329925e-05], train_loss = 0.0052, IoU = 0.8809, dice = 0.9360 \n",
            "\n"
          ]
        },
        {
          "name": "stderr",
          "output_type": "stream",
          "text": [
            "100%|██████████| 125/125 [00:52<00:00,  2.39it/s]\n"
          ]
        },
        {
          "name": "stdout",
          "output_type": "stream",
          "text": [
            "EP : 54, current_lr = [4.5841638490733826e-05], train_loss = 0.0056, IoU = 0.8729, dice = 0.9313 \n",
            "\n"
          ]
        },
        {
          "name": "stderr",
          "output_type": "stream",
          "text": [
            "100%|██████████| 125/125 [00:51<00:00,  2.41it/s]\n"
          ]
        },
        {
          "name": "stdout",
          "output_type": "stream",
          "text": [
            "EP : 55, current_lr = [4.4296004938567226e-05], train_loss = 0.0056, IoU = 0.8736, dice = 0.9317 \n",
            "\n"
          ]
        },
        {
          "name": "stderr",
          "output_type": "stream",
          "text": [
            "100%|██████████| 125/125 [00:52<00:00,  2.39it/s]\n"
          ]
        },
        {
          "name": "stdout",
          "output_type": "stream",
          "text": [
            "EP : 56, current_lr = [4.275649398050884e-05], train_loss = 0.0051, IoU = 0.8830, dice = 0.9372 \n",
            "\n"
          ]
        },
        {
          "name": "stderr",
          "output_type": "stream",
          "text": [
            "100%|██████████| 125/125 [00:51<00:00,  2.43it/s]\n"
          ]
        },
        {
          "name": "stdout",
          "output_type": "stream",
          "text": [
            "EP : 57, current_lr = [4.12246249280069e-05], train_loss = 0.0048, IoU = 0.8878, dice = 0.9399 \n",
            "\n"
          ]
        },
        {
          "name": "stderr",
          "output_type": "stream",
          "text": [
            "100%|██████████| 125/125 [00:52<00:00,  2.40it/s]\n"
          ]
        },
        {
          "name": "stdout",
          "output_type": "stream",
          "text": [
            "EP : 58, current_lr = [3.97019095508714e-05], train_loss = 0.0050, IoU = 0.8861, dice = 0.9389 \n",
            "\n"
          ]
        },
        {
          "name": "stderr",
          "output_type": "stream",
          "text": [
            "100%|██████████| 125/125 [00:51<00:00,  2.40it/s]\n"
          ]
        },
        {
          "name": "stdout",
          "output_type": "stream",
          "text": [
            "EP : 59, current_lr = [3.8189850585339904e-05], train_loss = 0.0051, IoU = 0.8824, dice = 0.9369 \n",
            "\n"
          ]
        },
        {
          "name": "stderr",
          "output_type": "stream",
          "text": [
            "100%|██████████| 125/125 [00:51<00:00,  2.41it/s]\n"
          ]
        },
        {
          "name": "stdout",
          "output_type": "stream",
          "text": [
            "EP : 60, current_lr = [3.6689940251058355e-05], train_loss = 0.0048, IoU = 0.8871, dice = 0.9394 \n",
            "\n"
          ]
        },
        {
          "name": "stderr",
          "output_type": "stream",
          "text": [
            "100%|██████████| 125/125 [00:51<00:00,  2.43it/s]\n"
          ]
        },
        {
          "name": "stdout",
          "output_type": "stream",
          "text": [
            "EP : 61, current_lr = [3.5203658778440295e-05], train_loss = 0.0046, IoU = 0.8919, dice = 0.9423 \n",
            "\n"
          ]
        },
        {
          "name": "stderr",
          "output_type": "stream",
          "text": [
            "100%|██████████| 125/125 [00:52<00:00,  2.40it/s]\n"
          ]
        },
        {
          "name": "stdout",
          "output_type": "stream",
          "text": [
            "EP : 62, current_lr = [3.373247294785828e-05], train_loss = 0.0045, IoU = 0.8919, dice = 0.9422 \n",
            "\n"
          ]
        },
        {
          "name": "stderr",
          "output_type": "stream",
          "text": [
            "100%|██████████| 125/125 [00:50<00:00,  2.45it/s]\n"
          ]
        },
        {
          "name": "stdout",
          "output_type": "stream",
          "text": [
            "EP : 63, current_lr = [3.2277834642108604e-05], train_loss = 0.0047, IoU = 0.8935, dice = 0.9431 \n",
            "\n"
          ]
        },
        {
          "name": "stderr",
          "output_type": "stream",
          "text": [
            "100%|██████████| 125/125 [00:51<00:00,  2.42it/s]\n"
          ]
        },
        {
          "name": "stdout",
          "output_type": "stream",
          "text": [
            "EP : 64, current_lr = [3.0841179413578414e-05], train_loss = 0.0043, IoU = 0.8950, dice = 0.9440 \n",
            "\n"
          ]
        },
        {
          "name": "stderr",
          "output_type": "stream",
          "text": [
            "100%|██████████| 125/125 [00:51<00:00,  2.42it/s]\n"
          ]
        },
        {
          "name": "stdout",
          "output_type": "stream",
          "text": [
            "EP : 65, current_lr = [2.9423925067528932e-05], train_loss = 0.0045, IoU = 0.8948, dice = 0.9440 \n",
            "\n"
          ]
        },
        {
          "name": "stderr",
          "output_type": "stream",
          "text": [
            "100%|██████████| 125/125 [00:52<00:00,  2.40it/s]\n"
          ]
        },
        {
          "name": "stdout",
          "output_type": "stream",
          "text": [
            "EP : 66, current_lr = [2.802747026289246e-05], train_loss = 0.0047, IoU = 0.8812, dice = 0.9359 \n",
            "\n"
          ]
        },
        {
          "name": "stderr",
          "output_type": "stream",
          "text": [
            "100%|██████████| 125/125 [00:51<00:00,  2.43it/s]\n"
          ]
        },
        {
          "name": "stdout",
          "output_type": "stream",
          "text": [
            "EP : 67, current_lr = [2.665319313196511e-05], train_loss = 0.0044, IoU = 0.8978, dice = 0.9457 \n",
            "\n"
          ]
        },
        {
          "name": "stderr",
          "output_type": "stream",
          "text": [
            "100%|██████████| 125/125 [00:51<00:00,  2.41it/s]\n"
          ]
        },
        {
          "name": "stdout",
          "output_type": "stream",
          "text": [
            "EP : 68, current_lr = [2.530244992035664e-05], train_loss = 0.0046, IoU = 0.8937, dice = 0.9433 \n",
            "\n"
          ]
        },
        {
          "name": "stderr",
          "output_type": "stream",
          "text": [
            "100%|██████████| 125/125 [00:51<00:00,  2.43it/s]\n"
          ]
        },
        {
          "name": "stdout",
          "output_type": "stream",
          "text": [
            "EP : 69, current_lr = [2.39765736485397e-05], train_loss = 0.0043, IoU = 0.8969, dice = 0.9452 \n",
            "\n"
          ]
        },
        {
          "name": "stderr",
          "output_type": "stream",
          "text": [
            "100%|██████████| 125/125 [00:51<00:00,  2.42it/s]\n"
          ]
        },
        {
          "name": "stdout",
          "output_type": "stream",
          "text": [
            "EP : 70, current_lr = [2.267687279631959e-05], train_loss = 0.0043, IoU = 0.8938, dice = 0.9433 \n",
            "\n"
          ]
        },
        {
          "name": "stderr",
          "output_type": "stream",
          "text": [
            "100%|██████████| 125/125 [00:52<00:00,  2.38it/s]\n"
          ]
        },
        {
          "name": "stdout",
          "output_type": "stream",
          "text": [
            "EP : 71, current_lr = [2.140463001152264e-05], train_loss = 0.0045, IoU = 0.8967, dice = 0.9450 \n",
            "\n"
          ]
        },
        {
          "name": "stderr",
          "output_type": "stream",
          "text": [
            "100%|██████████| 125/125 [00:52<00:00,  2.40it/s]\n"
          ]
        },
        {
          "name": "stdout",
          "output_type": "stream",
          "text": [
            "EP : 72, current_lr = [2.0161100844177734e-05], train_loss = 0.0043, IoU = 0.8957, dice = 0.9444 \n",
            "\n"
          ]
        },
        {
          "name": "stderr",
          "output_type": "stream",
          "text": [
            "100%|██████████| 125/125 [00:51<00:00,  2.44it/s]\n"
          ]
        },
        {
          "name": "stdout",
          "output_type": "stream",
          "text": [
            "EP : 73, current_lr = [1.8947512507439906e-05], train_loss = 0.0045, IoU = 0.8970, dice = 0.9452 \n",
            "\n"
          ]
        },
        {
          "name": "stderr",
          "output_type": "stream",
          "text": [
            "100%|██████████| 125/125 [00:51<00:00,  2.41it/s]\n"
          ]
        },
        {
          "name": "stdout",
          "output_type": "stream",
          "text": [
            "EP : 74, current_lr = [1.776506266647928e-05], train_loss = 0.0041, IoU = 0.8952, dice = 0.9441 \n",
            "\n"
          ]
        },
        {
          "name": "stderr",
          "output_type": "stream",
          "text": [
            "100%|██████████| 125/125 [00:51<00:00,  2.41it/s]\n"
          ]
        },
        {
          "name": "stdout",
          "output_type": "stream",
          "text": [
            "EP : 75, current_lr = [1.6614918256529957e-05], train_loss = 0.0042, IoU = 0.9000, dice = 0.9468 \n",
            "\n"
          ]
        },
        {
          "name": "stderr",
          "output_type": "stream",
          "text": [
            "100%|██████████| 125/125 [00:51<00:00,  2.43it/s]\n"
          ]
        },
        {
          "name": "stdout",
          "output_type": "stream",
          "text": [
            "EP : 76, current_lr = [1.5498214331265877e-05], train_loss = 0.0041, IoU = 0.8966, dice = 0.9449 \n",
            "\n"
          ]
        },
        {
          "name": "stderr",
          "output_type": "stream",
          "text": [
            "100%|██████████| 125/125 [00:51<00:00,  2.42it/s]\n"
          ]
        },
        {
          "name": "stdout",
          "output_type": "stream",
          "text": [
            "EP : 77, current_lr = [1.4416052942640093e-05], train_loss = 0.0041, IoU = 0.8987, dice = 0.9461 \n",
            "\n"
          ]
        },
        {
          "name": "stderr",
          "output_type": "stream",
          "text": [
            "100%|██████████| 125/125 [00:51<00:00,  2.43it/s]\n"
          ]
        },
        {
          "name": "stdout",
          "output_type": "stream",
          "text": [
            "EP : 78, current_lr = [1.336950205329221e-05], train_loss = 0.0040, IoU = 0.9025, dice = 0.9483 \n",
            "\n"
          ]
        },
        {
          "name": "stderr",
          "output_type": "stream",
          "text": [
            "100%|██████████| 125/125 [00:52<00:00,  2.39it/s]\n"
          ]
        },
        {
          "name": "stdout",
          "output_type": "stream",
          "text": [
            "EP : 79, current_lr = [1.2359594482598395e-05], train_loss = 0.0041, IoU = 0.9017, dice = 0.9478 \n",
            "\n"
          ]
        },
        {
          "name": "stderr",
          "output_type": "stream",
          "text": [
            "100%|██████████| 125/125 [00:52<00:00,  2.38it/s]\n"
          ]
        },
        {
          "name": "stdout",
          "output_type": "stream",
          "text": [
            "EP : 80, current_lr = [1.1387326887403298e-05], train_loss = 0.0043, IoU = 0.9052, dice = 0.9499 \n",
            "\n"
          ]
        },
        {
          "name": "stderr",
          "output_type": "stream",
          "text": [
            "100%|██████████| 125/125 [00:51<00:00,  2.41it/s]\n"
          ]
        },
        {
          "name": "stdout",
          "output_type": "stream",
          "text": [
            "EP : 81, current_lr = [1.045365877844009e-05], train_loss = 0.0039, IoU = 0.8988, dice = 0.9462 \n",
            "\n"
          ]
        },
        {
          "name": "stderr",
          "output_type": "stream",
          "text": [
            "100%|██████████| 125/125 [00:51<00:00,  2.42it/s]\n"
          ]
        },
        {
          "name": "stdout",
          "output_type": "stream",
          "text": [
            "EP : 82, current_lr = [9.55951157340918e-06], train_loss = 0.0038, IoU = 0.9037, dice = 0.9489 \n",
            "\n"
          ]
        },
        {
          "name": "stderr",
          "output_type": "stream",
          "text": [
            "100%|██████████| 125/125 [00:52<00:00,  2.39it/s]\n"
          ]
        },
        {
          "name": "stdout",
          "output_type": "stream",
          "text": [
            "EP : 83, current_lr = [8.705767687650241e-06], train_loss = 0.0039, IoU = 0.9095, dice = 0.9523 \n",
            "\n"
          ]
        },
        {
          "name": "stderr",
          "output_type": "stream",
          "text": [
            "100%|██████████| 125/125 [00:51<00:00,  2.41it/s]\n"
          ]
        },
        {
          "name": "stdout",
          "output_type": "stream",
          "text": [
            "EP : 84, current_lr = [7.893269663304828e-06], train_loss = 0.0040, IoU = 0.9042, dice = 0.9492 \n",
            "\n"
          ]
        },
        {
          "name": "stderr",
          "output_type": "stream",
          "text": [
            "100%|██████████| 125/125 [00:51<00:00,  2.41it/s]\n"
          ]
        },
        {
          "name": "stdout",
          "output_type": "stream",
          "text": [
            "EP : 85, current_lr = [7.1228193378288065e-06], train_loss = 0.0038, IoU = 0.9094, dice = 0.9522 \n",
            "\n"
          ]
        },
        {
          "name": "stderr",
          "output_type": "stream",
          "text": [
            "100%|██████████| 125/125 [00:51<00:00,  2.41it/s]\n"
          ]
        },
        {
          "name": "stdout",
          "output_type": "stream",
          "text": [
            "EP : 86, current_lr = [6.395177052675833e-06], train_loss = 0.0039, IoU = 0.9071, dice = 0.9509 \n",
            "\n"
          ]
        },
        {
          "name": "stderr",
          "output_type": "stream",
          "text": [
            "100%|██████████| 125/125 [00:51<00:00,  2.41it/s]\n"
          ]
        },
        {
          "name": "stdout",
          "output_type": "stream",
          "text": [
            "EP : 87, current_lr = [5.711060902932073e-06], train_loss = 0.0041, IoU = 0.9078, dice = 0.9513 \n",
            "\n"
          ]
        },
        {
          "name": "stderr",
          "output_type": "stream",
          "text": [
            "100%|██████████| 125/125 [00:51<00:00,  2.42it/s]\n"
          ]
        },
        {
          "name": "stdout",
          "output_type": "stream",
          "text": [
            "EP : 88, current_lr = [5.071146028642972e-06], train_loss = 0.0037, IoU = 0.9110, dice = 0.9531 \n",
            "\n"
          ]
        },
        {
          "name": "stderr",
          "output_type": "stream",
          "text": [
            "100%|██████████| 125/125 [00:51<00:00,  2.42it/s]\n"
          ]
        },
        {
          "name": "stdout",
          "output_type": "stream",
          "text": [
            "EP : 89, current_lr = [4.4760639485316e-06], train_loss = 0.0036, IoU = 0.9135, dice = 0.9544 \n",
            "\n"
          ]
        },
        {
          "name": "stderr",
          "output_type": "stream",
          "text": [
            "100%|██████████| 125/125 [00:51<00:00,  2.42it/s]\n"
          ]
        },
        {
          "name": "stdout",
          "output_type": "stream",
          "text": [
            "EP : 90, current_lr = [3.926401936765901e-06], train_loss = 0.0039, IoU = 0.9079, dice = 0.9513 \n",
            "\n"
          ]
        },
        {
          "name": "stderr",
          "output_type": "stream",
          "text": [
            "100%|██████████| 125/125 [00:52<00:00,  2.39it/s]\n"
          ]
        },
        {
          "name": "stdout",
          "output_type": "stream",
          "text": [
            "EP : 91, current_lr = [3.422702443389974e-06], train_loss = 0.0037, IoU = 0.9088, dice = 0.9518 \n",
            "\n"
          ]
        },
        {
          "name": "stderr",
          "output_type": "stream",
          "text": [
            "100%|██████████| 125/125 [00:52<00:00,  2.39it/s]\n"
          ]
        },
        {
          "name": "stdout",
          "output_type": "stream",
          "text": [
            "EP : 92, current_lr = [2.965462558991402e-06], train_loss = 0.0037, IoU = 0.9089, dice = 0.9518 \n",
            "\n"
          ]
        },
        {
          "name": "stderr",
          "output_type": "stream",
          "text": [
            "100%|██████████| 125/125 [00:51<00:00,  2.41it/s]\n"
          ]
        },
        {
          "name": "stdout",
          "output_type": "stream",
          "text": [
            "EP : 93, current_lr = [2.5551335241328312e-06], train_loss = 0.0038, IoU = 0.9136, dice = 0.9545 \n",
            "\n"
          ]
        },
        {
          "name": "stderr",
          "output_type": "stream",
          "text": [
            "100%|██████████| 125/125 [00:51<00:00,  2.42it/s]\n"
          ]
        },
        {
          "name": "stdout",
          "output_type": "stream",
          "text": [
            "EP : 94, current_lr = [2.1921202840320585e-06], train_loss = 0.0039, IoU = 0.9080, dice = 0.9513 \n",
            "\n"
          ]
        },
        {
          "name": "stderr",
          "output_type": "stream",
          "text": [
            "100%|██████████| 125/125 [00:53<00:00,  2.34it/s]\n"
          ]
        },
        {
          "name": "stdout",
          "output_type": "stream",
          "text": [
            "EP : 95, current_lr = [1.8767810889299456e-06], train_loss = 0.0039, IoU = 0.9099, dice = 0.9525 \n",
            "\n"
          ]
        },
        {
          "name": "stderr",
          "output_type": "stream",
          "text": [
            "100%|██████████| 125/125 [00:51<00:00,  2.42it/s]\n"
          ]
        },
        {
          "name": "stdout",
          "output_type": "stream",
          "text": [
            "EP : 96, current_lr = [1.609427140540712e-06], train_loss = 0.0037, IoU = 0.9108, dice = 0.9529 \n",
            "\n"
          ]
        },
        {
          "name": "stderr",
          "output_type": "stream",
          "text": [
            "100%|██████████| 125/125 [00:51<00:00,  2.43it/s]\n"
          ]
        },
        {
          "name": "stdout",
          "output_type": "stream",
          "text": [
            "EP : 97, current_lr = [1.390322284933368e-06], train_loss = 0.0037, IoU = 0.9068, dice = 0.9507 \n",
            "\n"
          ]
        },
        {
          "name": "stderr",
          "output_type": "stream",
          "text": [
            "100%|██████████| 125/125 [00:51<00:00,  2.41it/s]\n"
          ]
        },
        {
          "name": "stdout",
          "output_type": "stream",
          "text": [
            "EP : 98, current_lr = [1.2196827521475498e-06], train_loss = 0.0038, IoU = 0.9067, dice = 0.9507 \n",
            "\n"
          ]
        },
        {
          "name": "stderr",
          "output_type": "stream",
          "text": [
            "100%|██████████| 125/125 [00:51<00:00,  2.41it/s]\n"
          ]
        },
        {
          "name": "stdout",
          "output_type": "stream",
          "text": [
            "EP : 99, current_lr = [1.0976769428005625e-06], train_loss = 0.0039, IoU = 0.9066, dice = 0.9505 \n",
            "\n"
          ]
        },
        {
          "name": "stderr",
          "output_type": "stream",
          "text": [
            "100%|██████████| 125/125 [00:51<00:00,  2.42it/s]"
          ]
        },
        {
          "name": "stdout",
          "output_type": "stream",
          "text": [
            "EP : 100, current_lr = [1.0244252618962874e-06], train_loss = 0.0039, IoU = 0.9065, dice = 0.9505 \n",
            "\n"
          ]
        },
        {
          "name": "stderr",
          "output_type": "stream",
          "text": [
            "\n"
          ]
        }
      ],
      "source": [
        "max_dice = 0.0 \n",
        "for ep in range(1, 1+n_eps):\n",
        "    train_loss_meter.reset()\n",
        "    intersection_meter.reset()\n",
        "    union_meter.reset()\n",
        "    target_meter.reset()\n",
        "    model.train()\n",
        "\n",
        "    for batch_id, (x, y) in enumerate(tqdm(train_dataloader), start=1):\n",
        "        if ep <= 1:\n",
        "            optimizer.param_groups[0][\"lr\"] = (ep * batch_id) / (1.0 * total_step) * init_lr\n",
        "        else:\n",
        "            scheduler.step()\n",
        "        optimizer.zero_grad()\n",
        "        n = x.shape[0]\n",
        "        x = x.to(device).float()\n",
        "        y = y.to(device).long()\n",
        "        # print(x.shape, y.shape)\n",
        "        \n",
        "        y_hat = model.forward_dummy(x) #(B, C, H, W)\n",
        "        # print(y_hat.shape)\n",
        "\n",
        "        loss = criterion(y_hat, y) #(B, C, H, W) >< (B, H, W)\n",
        "        loss.backward()\n",
        "        optimizer.step()\n",
        "\n",
        "        #save metrics\n",
        "        with torch.no_grad():\n",
        "            train_loss_meter.update(loss.item())\n",
        "            y_hat_mask = y_hat.argmax(dim=1).squeeze(1) # (B, C, H, W) -> (B, 1, H, W) -> (B, H, W)\n",
        "            intersection, union, target = intersectionAndUnionGPU(y_hat_mask.float(), y.float(), 3)\n",
        "            intersection_meter.update(intersection)\n",
        "            union_meter.update(union)\n",
        "            target_meter.update(target)\n",
        "\n",
        "    #compute iou, dice\n",
        "    with torch.no_grad():\n",
        "        iou_class = intersection_meter.sum / (union_meter.sum + 1e-10) #vector 3D\n",
        "        dice_class = (2 * intersection_meter.sum) / (intersection_meter.sum + union_meter.sum + 1e-10) #vector 3D\n",
        "\n",
        "        mIoU = torch.mean(iou_class[1:]) #mean iou class 1 and class 2\n",
        "        mDice = torch.mean(dice_class[1:]) #mean dice class 1 and class 2\n",
        "\n",
        "    print(f\"EP : {ep}, current_lr = {scheduler.get_last_lr()}, train_loss = {train_loss_meter.avg:.4f}, IoU = {mIoU:.4f}, dice = {mDice:.4f} \\n\")\n",
        "\n",
        "    if mDice > max_dice:\n",
        "        max_dice = mDice\n",
        "        torch.save(model.state_dict(), f\"{save_path}/weights/best_dice_ckpt_ep_{ep}.pth\")"
      ]
    },
    {
      "cell_type": "code",
      "execution_count": null,
      "metadata": {},
      "outputs": [],
      "source": []
    }
  ],
  "metadata": {
    "colab": {
      "provenance": []
    },
    "gpuClass": "standard",
    "kernelspec": {
      "display_name": "Python 3",
      "name": "python3"
    },
    "language_info": {
      "codemirror_mode": {
        "name": "ipython",
        "version": 3
      },
      "file_extension": ".py",
      "mimetype": "text/x-python",
      "name": "python",
      "nbconvert_exporter": "python",
      "pygments_lexer": "ipython3",
      "version": "3.10.13"
    }
  },
  "nbformat": 4,
  "nbformat_minor": 0
}
