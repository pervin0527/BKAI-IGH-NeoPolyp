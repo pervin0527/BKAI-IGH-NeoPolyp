{
 "cells": [
  {
   "cell_type": "code",
   "execution_count": 1,
   "metadata": {},
   "outputs": [],
   "source": [
    "import os\n",
    "import sys\n",
    "sys.path.append(\"/home/pervinco/BKAI-IGH-NeoPolyp\")\n",
    "\n",
    "import cv2\n",
    "import yaml\n",
    "import torch\n",
    "import numpy as np\n",
    "import matplotlib.pyplot as plt\n",
    "\n",
    "from torch.utils.data import DataLoader\n",
    "\n",
    "from data.BKAIDataset import BKAIDataset\n",
    "from utils import decode_image, decode_mask"
   ]
  },
  {
   "cell_type": "code",
   "execution_count": 2,
   "metadata": {},
   "outputs": [],
   "source": [
    "if not os.path.isdir(\"./batch_images\"):\n",
    "    os.makedirs(\"./batch_images\")"
   ]
  },
  {
   "cell_type": "code",
   "execution_count": 3,
   "metadata": {},
   "outputs": [
    {
     "name": "stderr",
     "output_type": "stream",
     "text": [
      "/home/pervinco/anaconda3/envs/openmmlab/lib/python3.10/site-packages/albumentations/augmentations/dropout/cutout.py:49: FutureWarning: Cutout has been deprecated. Please use CoarseDropout\n",
      "  warnings.warn(\n"
     ]
    }
   ],
   "source": [
    "with open(\"/home/pervinco/BKAI-IGH-NeoPolyp/config.yaml\", \"r\") as f:\n",
    "    config = yaml.safe_load(f)\n",
    "\n",
    "\n",
    "## Device Setup\n",
    "device = torch.device(\"cuda\" if torch.cuda.is_available() else \"cpu\")\n",
    "num_workers = min([os.cpu_count(), config[\"batch_size\"] if config[\"batch_size\"] > 1 else 0, 8])\n",
    "\n",
    "## Load Dataset\n",
    "train_dataset = BKAIDataset(config=config)\n",
    "train_dataloader = DataLoader(dataset=train_dataset, batch_size=config[\"batch_size\"], shuffle=True, num_workers=num_workers)"
   ]
  },
  {
   "cell_type": "code",
   "execution_count": 4,
   "metadata": {},
   "outputs": [
    {
     "name": "stdout",
     "output_type": "stream",
     "text": [
      "torch.Size([8, 3, 512, 512]) torch.Size([8, 512, 512])\n",
      "torch.Size([8, 3, 512, 512]) torch.Size([8, 512, 512])\n",
      "torch.Size([8, 3, 512, 512]) torch.Size([8, 512, 512])\n",
      "torch.Size([8, 3, 512, 512]) torch.Size([8, 512, 512])\n",
      "torch.Size([8, 3, 512, 512]) torch.Size([8, 512, 512])\n",
      "torch.Size([8, 3, 512, 512]) torch.Size([8, 512, 512])\n"
     ]
    }
   ],
   "source": [
    "for i, (images, masks) in enumerate(train_dataloader):\n",
    "    print(images.shape, masks.shape)\n",
    "    if i == 5:\n",
    "        break\n",
    "    images, masks = images.numpy(), masks.numpy()\n",
    "    for j, (image, mask) in enumerate(zip(images, masks)):\n",
    "\n",
    "        image = decode_image(image)\n",
    "        mask = decode_mask(mask)\n",
    "\n",
    "        overlay = cv2.addWeighted(image, 0.7, mask, 0.3, 0)\n",
    "        result = np.hstack((image, mask, overlay))\n",
    "        result = cv2.cvtColor(result, cv2.COLOR_BGR2RGB)\n",
    "\n",
    "        cv2.imwrite(f\"./batch_images/batch{i}_no{j}.png\", result)"
   ]
  }
 ],
 "metadata": {
  "kernelspec": {
   "display_name": "Python 3",
   "language": "python",
   "name": "python3"
  },
  "language_info": {
   "codemirror_mode": {
    "name": "ipython",
    "version": 3
   },
   "file_extension": ".py",
   "mimetype": "text/x-python",
   "name": "python",
   "nbconvert_exporter": "python",
   "pygments_lexer": "ipython3",
   "version": "3.10.13"
  },
  "orig_nbformat": 4
 },
 "nbformat": 4,
 "nbformat_minor": 2
}
