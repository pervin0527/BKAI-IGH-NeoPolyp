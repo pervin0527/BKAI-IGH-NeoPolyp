{
 "cells": [
  {
   "cell_type": "code",
   "execution_count": 6,
   "metadata": {},
   "outputs": [],
   "source": [
    "import os\n",
    "import sys\n",
    "import warnings\n",
    "warnings.filterwarnings(\"ignore\")\n",
    "os.environ['TF_CPP_MIN_LOG_LEVEL'] = '3'\n",
    "sys.path.append(\"/home/pervinco/BKAI_MetaPolyp\")\n",
    "\n",
    "import cv2\n",
    "import yaml\n",
    "import numpy as np\n",
    "\n",
    "from glob import glob\n",
    "from data.batch_preprocess import load_img_mask, encode_mask"
   ]
  },
  {
   "cell_type": "code",
   "execution_count": 7,
   "metadata": {},
   "outputs": [],
   "source": [
    "with open(\"/home/pervinco/BKAI_MetaPolyp/config.yaml\", \"r\") as f:\n",
    "    config = yaml.safe_load(f)\n",
    "\n",
    "data_dir = config[\"data_dir\"]\n",
    "image_dir = f\"{data_dir}/train\"\n",
    "mask_dir = f\"{data_dir}/train_gt\"\n",
    "\n",
    "image_files = sorted(glob(f\"{image_dir}/*\"))\n",
    "mask_files = sorted(glob(f\"{mask_dir}/*\"))\n"
   ]
  },
  {
   "cell_type": "code",
   "execution_count": 8,
   "metadata": {},
   "outputs": [],
   "source": [
    "def get_bounding_boxes_for_classes(encoded_mask):\n",
    "    classes = [1, 2]  # Defined classes in the mask\n",
    "    bounding_boxes_dict = {}\n",
    "\n",
    "    for cls in classes:\n",
    "        # Create a binary mask for the current class\n",
    "        binary_mask = (encoded_mask == cls).astype(np.uint8)\n",
    "\n",
    "        # Find contours for the binary mask\n",
    "        contours, _ = cv2.findContours(binary_mask, cv2.RETR_EXTERNAL, cv2.CHAIN_APPROX_SIMPLE)\n",
    "\n",
    "        bounding_boxes = []\n",
    "        for contour in contours:\n",
    "            x, y, w, h = cv2.boundingRect(contour)\n",
    "            xmin = x\n",
    "            ymin = y\n",
    "            xmax = x + w\n",
    "            ymax = y + h\n",
    "            bounding_boxes.append((xmin, ymin, xmax, ymax))\n",
    "        \n",
    "        bounding_boxes_dict[cls] = bounding_boxes\n",
    "    \n",
    "    return bounding_boxes_dict"
   ]
  },
  {
   "cell_type": "code",
   "execution_count": 9,
   "metadata": {},
   "outputs": [],
   "source": [
    "if not os.path.isdir(\"./img_with_bboxes\"):\n",
    "    os.makedirs(\"./img_with_bboxes\")\n",
    "\n",
    "if not os.path.isdir(f\"{data_dir}/bounding_boxes\"):\n",
    "    os.makedirs(f\"{data_dir}/bounding_boxes\")"
   ]
  },
  {
   "cell_type": "code",
   "execution_count": 10,
   "metadata": {},
   "outputs": [],
   "source": [
    "for image_file, mask_file in zip(image_files, mask_files):\n",
    "    file_name = image_file.split('/')[-1].split('.')[0]\n",
    "    image, mask = load_img_mask(image_file, mask_file, size=config[\"img_size\"])\n",
    "\n",
    "    encoded_mask = encode_mask(mask)\n",
    "    bounding_boxes = get_bounding_boxes_for_classes(encoded_mask)\n",
    "    \n",
    "    with open(f\"{data_dir}/bounding_boxes/{file_name}.txt\", \"w\") as f:\n",
    "        for cls, bboxes in bounding_boxes.items():\n",
    "            for bbox in bboxes:\n",
    "                xmin, ymin, xmax, ymax = bbox[0], bbox[1], bbox[2], bbox[3]\n",
    "                f.write(f\"{cls},{xmin},{ymin},{xmax},{ymax}\\n\")\n",
    "                # image = cv2.rectangle(image, (xmin, ymin), (xmax, ymax), (255, 0, 0), 2)\n",
    "\n",
    "    # mask = cv2.cvtColor(mask, cv2.COLOR_BGR2RGB)\n",
    "    # overlay = cv2.addWeighted(image, 0.7, mask, 0.3, 0)\n",
    "    # result = np.hstack((image, mask, overlay))\n",
    "\n",
    "    # result = cv2.cvtColor(result, cv2.COLOR_BGR2RGB)\n",
    "    # cv2.imwrite(f\"./img_with_bboxes/{file_name}.png\", result)"
   ]
  }
 ],
 "metadata": {
  "kernelspec": {
   "display_name": "Python 3",
   "language": "python",
   "name": "python3"
  },
  "language_info": {
   "codemirror_mode": {
    "name": "ipython",
    "version": 3
   },
   "file_extension": ".py",
   "mimetype": "text/x-python",
   "name": "python",
   "nbconvert_exporter": "python",
   "pygments_lexer": "ipython3",
   "version": "3.8.10"
  },
  "orig_nbformat": 4
 },
 "nbformat": 4,
 "nbformat_minor": 2
}
